{
  "nbformat": 4,
  "nbformat_minor": 0,
  "metadata": {
    "colab": {
      "provenance": [],
      "authorship_tag": "ABX9TyO+c68O0GCBPH0E+HlMcJi9",
      "include_colab_link": true
    },
    "kernelspec": {
      "name": "python3",
      "display_name": "Python 3"
    },
    "language_info": {
      "name": "python"
    }
  },
  "cells": [
    {
      "cell_type": "markdown",
      "metadata": {
        "id": "view-in-github",
        "colab_type": "text"
      },
      "source": [
        "<a href=\"https://colab.research.google.com/github/pramanand-coder/code-portfolio/blob/master/Sale_price_Prediction.ipynb\" target=\"_parent\"><img src=\"https://colab.research.google.com/assets/colab-badge.svg\" alt=\"Open In Colab\"/></a>"
      ]
    },
    {
      "cell_type": "code",
      "execution_count": 1,
      "metadata": {
        "id": "30hhvtfhlyFo"
      },
      "outputs": [],
      "source": [
        "import pandas as pd\n",
        "from sklearn.linear_model import LinearRegression"
      ]
    },
    {
      "cell_type": "code",
      "source": [
        "from google.colab import files\n",
        "u=files.upload()"
      ],
      "metadata": {
        "colab": {
          "base_uri": "https://localhost:8080/",
          "height": 73
        },
        "id": "f1XmZpeNmnPP",
        "outputId": "634e48c9-f8bf-4605-a47b-a4a5d807e333"
      },
      "execution_count": 2,
      "outputs": [
        {
          "output_type": "display_data",
          "data": {
            "text/plain": [
              "<IPython.core.display.HTML object>"
            ],
            "text/html": [
              "\n",
              "     <input type=\"file\" id=\"files-9b242737-bd93-4caf-9dbe-7bc5b7e6d508\" name=\"files[]\" multiple disabled\n",
              "        style=\"border:none\" />\n",
              "     <output id=\"result-9b242737-bd93-4caf-9dbe-7bc5b7e6d508\">\n",
              "      Upload widget is only available when the cell has been executed in the\n",
              "      current browser session. Please rerun this cell to enable.\n",
              "      </output>\n",
              "      <script>// Copyright 2017 Google LLC\n",
              "//\n",
              "// Licensed under the Apache License, Version 2.0 (the \"License\");\n",
              "// you may not use this file except in compliance with the License.\n",
              "// You may obtain a copy of the License at\n",
              "//\n",
              "//      http://www.apache.org/licenses/LICENSE-2.0\n",
              "//\n",
              "// Unless required by applicable law or agreed to in writing, software\n",
              "// distributed under the License is distributed on an \"AS IS\" BASIS,\n",
              "// WITHOUT WARRANTIES OR CONDITIONS OF ANY KIND, either express or implied.\n",
              "// See the License for the specific language governing permissions and\n",
              "// limitations under the License.\n",
              "\n",
              "/**\n",
              " * @fileoverview Helpers for google.colab Python module.\n",
              " */\n",
              "(function(scope) {\n",
              "function span(text, styleAttributes = {}) {\n",
              "  const element = document.createElement('span');\n",
              "  element.textContent = text;\n",
              "  for (const key of Object.keys(styleAttributes)) {\n",
              "    element.style[key] = styleAttributes[key];\n",
              "  }\n",
              "  return element;\n",
              "}\n",
              "\n",
              "// Max number of bytes which will be uploaded at a time.\n",
              "const MAX_PAYLOAD_SIZE = 100 * 1024;\n",
              "\n",
              "function _uploadFiles(inputId, outputId) {\n",
              "  const steps = uploadFilesStep(inputId, outputId);\n",
              "  const outputElement = document.getElementById(outputId);\n",
              "  // Cache steps on the outputElement to make it available for the next call\n",
              "  // to uploadFilesContinue from Python.\n",
              "  outputElement.steps = steps;\n",
              "\n",
              "  return _uploadFilesContinue(outputId);\n",
              "}\n",
              "\n",
              "// This is roughly an async generator (not supported in the browser yet),\n",
              "// where there are multiple asynchronous steps and the Python side is going\n",
              "// to poll for completion of each step.\n",
              "// This uses a Promise to block the python side on completion of each step,\n",
              "// then passes the result of the previous step as the input to the next step.\n",
              "function _uploadFilesContinue(outputId) {\n",
              "  const outputElement = document.getElementById(outputId);\n",
              "  const steps = outputElement.steps;\n",
              "\n",
              "  const next = steps.next(outputElement.lastPromiseValue);\n",
              "  return Promise.resolve(next.value.promise).then((value) => {\n",
              "    // Cache the last promise value to make it available to the next\n",
              "    // step of the generator.\n",
              "    outputElement.lastPromiseValue = value;\n",
              "    return next.value.response;\n",
              "  });\n",
              "}\n",
              "\n",
              "/**\n",
              " * Generator function which is called between each async step of the upload\n",
              " * process.\n",
              " * @param {string} inputId Element ID of the input file picker element.\n",
              " * @param {string} outputId Element ID of the output display.\n",
              " * @return {!Iterable<!Object>} Iterable of next steps.\n",
              " */\n",
              "function* uploadFilesStep(inputId, outputId) {\n",
              "  const inputElement = document.getElementById(inputId);\n",
              "  inputElement.disabled = false;\n",
              "\n",
              "  const outputElement = document.getElementById(outputId);\n",
              "  outputElement.innerHTML = '';\n",
              "\n",
              "  const pickedPromise = new Promise((resolve) => {\n",
              "    inputElement.addEventListener('change', (e) => {\n",
              "      resolve(e.target.files);\n",
              "    });\n",
              "  });\n",
              "\n",
              "  const cancel = document.createElement('button');\n",
              "  inputElement.parentElement.appendChild(cancel);\n",
              "  cancel.textContent = 'Cancel upload';\n",
              "  const cancelPromise = new Promise((resolve) => {\n",
              "    cancel.onclick = () => {\n",
              "      resolve(null);\n",
              "    };\n",
              "  });\n",
              "\n",
              "  // Wait for the user to pick the files.\n",
              "  const files = yield {\n",
              "    promise: Promise.race([pickedPromise, cancelPromise]),\n",
              "    response: {\n",
              "      action: 'starting',\n",
              "    }\n",
              "  };\n",
              "\n",
              "  cancel.remove();\n",
              "\n",
              "  // Disable the input element since further picks are not allowed.\n",
              "  inputElement.disabled = true;\n",
              "\n",
              "  if (!files) {\n",
              "    return {\n",
              "      response: {\n",
              "        action: 'complete',\n",
              "      }\n",
              "    };\n",
              "  }\n",
              "\n",
              "  for (const file of files) {\n",
              "    const li = document.createElement('li');\n",
              "    li.append(span(file.name, {fontWeight: 'bold'}));\n",
              "    li.append(span(\n",
              "        `(${file.type || 'n/a'}) - ${file.size} bytes, ` +\n",
              "        `last modified: ${\n",
              "            file.lastModifiedDate ? file.lastModifiedDate.toLocaleDateString() :\n",
              "                                    'n/a'} - `));\n",
              "    const percent = span('0% done');\n",
              "    li.appendChild(percent);\n",
              "\n",
              "    outputElement.appendChild(li);\n",
              "\n",
              "    const fileDataPromise = new Promise((resolve) => {\n",
              "      const reader = new FileReader();\n",
              "      reader.onload = (e) => {\n",
              "        resolve(e.target.result);\n",
              "      };\n",
              "      reader.readAsArrayBuffer(file);\n",
              "    });\n",
              "    // Wait for the data to be ready.\n",
              "    let fileData = yield {\n",
              "      promise: fileDataPromise,\n",
              "      response: {\n",
              "        action: 'continue',\n",
              "      }\n",
              "    };\n",
              "\n",
              "    // Use a chunked sending to avoid message size limits. See b/62115660.\n",
              "    let position = 0;\n",
              "    do {\n",
              "      const length = Math.min(fileData.byteLength - position, MAX_PAYLOAD_SIZE);\n",
              "      const chunk = new Uint8Array(fileData, position, length);\n",
              "      position += length;\n",
              "\n",
              "      const base64 = btoa(String.fromCharCode.apply(null, chunk));\n",
              "      yield {\n",
              "        response: {\n",
              "          action: 'append',\n",
              "          file: file.name,\n",
              "          data: base64,\n",
              "        },\n",
              "      };\n",
              "\n",
              "      let percentDone = fileData.byteLength === 0 ?\n",
              "          100 :\n",
              "          Math.round((position / fileData.byteLength) * 100);\n",
              "      percent.textContent = `${percentDone}% done`;\n",
              "\n",
              "    } while (position < fileData.byteLength);\n",
              "  }\n",
              "\n",
              "  // All done.\n",
              "  yield {\n",
              "    response: {\n",
              "      action: 'complete',\n",
              "    }\n",
              "  };\n",
              "}\n",
              "\n",
              "scope.google = scope.google || {};\n",
              "scope.google.colab = scope.google.colab || {};\n",
              "scope.google.colab._files = {\n",
              "  _uploadFiles,\n",
              "  _uploadFilesContinue,\n",
              "};\n",
              "})(self);\n",
              "</script> "
            ]
          },
          "metadata": {}
        },
        {
          "output_type": "stream",
          "name": "stdout",
          "text": [
            "Saving practiceDataset.csv to practiceDataset (1).csv\n"
          ]
        }
      ]
    },
    {
      "cell_type": "code",
      "source": [
        "dataset=pd.read_csv(\"practiceDataset.csv\")"
      ],
      "metadata": {
        "id": "lgF1eP63mxo1"
      },
      "execution_count": 3,
      "outputs": []
    },
    {
      "cell_type": "markdown",
      "source": [
        "**Summarizing the dataset**"
      ],
      "metadata": {
        "id": "KWMeCUOLnAOJ"
      }
    },
    {
      "cell_type": "code",
      "source": [
        "print(dataset.head())\n",
        "print(dataset.shape)"
      ],
      "metadata": {
        "colab": {
          "base_uri": "https://localhost:8080/"
        },
        "id": "G9QLEEj5m-Bc",
        "outputId": "33717f65-b961-45c1-8f75-184539f65c6e"
      },
      "execution_count": 4,
      "outputs": [
        {
          "output_type": "stream",
          "name": "stdout",
          "text": [
            "   Id  MSSubClass MSZoning  LotFrontage  LotArea Street Alley LotShape  \\\n",
            "0   1          60       RL         65.0     8450   Pave   NaN      Reg   \n",
            "1   2          20       RL         80.0     9600   Pave   NaN      Reg   \n",
            "2   3          60       RL         68.0    11250   Pave   NaN      IR1   \n",
            "3   4          70       RL         60.0     9550   Pave   NaN      IR1   \n",
            "4   5          60       RL         84.0    14260   Pave   NaN      IR1   \n",
            "\n",
            "  LandContour Utilities  ... PoolArea PoolQC Fence MiscFeature MiscVal MoSold  \\\n",
            "0         Lvl    AllPub  ...        0    NaN   NaN         NaN       0      2   \n",
            "1         Lvl    AllPub  ...        0    NaN   NaN         NaN       0      5   \n",
            "2         Lvl    AllPub  ...        0    NaN   NaN         NaN       0      9   \n",
            "3         Lvl    AllPub  ...        0    NaN   NaN         NaN       0      2   \n",
            "4         Lvl    AllPub  ...        0    NaN   NaN         NaN       0     12   \n",
            "\n",
            "  YrSold  SaleType  SaleCondition  SalePrice  \n",
            "0   2008        WD         Normal     208500  \n",
            "1   2007        WD         Normal     181500  \n",
            "2   2008        WD         Normal     223500  \n",
            "3   2006        WD        Abnorml     140000  \n",
            "4   2008        WD         Normal     250000  \n",
            "\n",
            "[5 rows x 81 columns]\n",
            "(1460, 81)\n"
          ]
        }
      ]
    },
    {
      "cell_type": "code",
      "source": [
        "dataset.isnull().sum()"
      ],
      "metadata": {
        "colab": {
          "base_uri": "https://localhost:8080/"
        },
        "id": "E5dFZ_CHnJFU",
        "outputId": "228e72b8-a94f-4318-cad7-f0a3a5d5b85a"
      },
      "execution_count": 5,
      "outputs": [
        {
          "output_type": "execute_result",
          "data": {
            "text/plain": [
              "Id                 0\n",
              "MSSubClass         0\n",
              "MSZoning           0\n",
              "LotFrontage      259\n",
              "LotArea            0\n",
              "                ... \n",
              "MoSold             0\n",
              "YrSold             0\n",
              "SaleType           0\n",
              "SaleCondition      0\n",
              "SalePrice          0\n",
              "Length: 81, dtype: int64"
            ]
          },
          "metadata": {},
          "execution_count": 5
        }
      ]
    },
    {
      "cell_type": "markdown",
      "source": [
        "**Checking for missing values**"
      ],
      "metadata": {
        "id": "Jc-mNvakyDlm"
      }
    },
    {
      "cell_type": "code",
      "source": [
        "dataset.columns[dataset.isna().any()]"
      ],
      "metadata": {
        "colab": {
          "base_uri": "https://localhost:8080/"
        },
        "id": "QXWfNOlDqowO",
        "outputId": "14dfd932-7624-4104-ff77-0d548ad50af5"
      },
      "execution_count": 6,
      "outputs": [
        {
          "output_type": "execute_result",
          "data": {
            "text/plain": [
              "Index(['LotFrontage', 'Alley', 'MasVnrType', 'MasVnrArea', 'BsmtQual',\n",
              "       'BsmtCond', 'BsmtExposure', 'BsmtFinType1', 'BsmtFinType2',\n",
              "       'Electrical', 'FireplaceQu', 'GarageType', 'GarageYrBlt',\n",
              "       'GarageFinish', 'GarageQual', 'GarageCond', 'PoolQC', 'Fence',\n",
              "       'MiscFeature'],\n",
              "      dtype='object')"
            ]
          },
          "metadata": {},
          "execution_count": 6
        }
      ]
    },
    {
      "cell_type": "code",
      "source": [
        "missing=dataset.columns[dataset.isna().any()].values"
      ],
      "metadata": {
        "id": "RkltosaOuzem"
      },
      "execution_count": 7,
      "outputs": []
    },
    {
      "cell_type": "code",
      "source": [
        "missing"
      ],
      "metadata": {
        "colab": {
          "base_uri": "https://localhost:8080/"
        },
        "id": "ZU--I554u8Rz",
        "outputId": "d96e1e98-2177-494d-d21c-e07c5993d197"
      },
      "execution_count": 8,
      "outputs": [
        {
          "output_type": "execute_result",
          "data": {
            "text/plain": [
              "array(['LotFrontage', 'Alley', 'MasVnrType', 'MasVnrArea', 'BsmtQual',\n",
              "       'BsmtCond', 'BsmtExposure', 'BsmtFinType1', 'BsmtFinType2',\n",
              "       'Electrical', 'FireplaceQu', 'GarageType', 'GarageYrBlt',\n",
              "       'GarageFinish', 'GarageQual', 'GarageCond', 'PoolQC', 'Fence',\n",
              "       'MiscFeature'], dtype=object)"
            ]
          },
          "metadata": {},
          "execution_count": 8
        }
      ]
    },
    {
      "cell_type": "code",
      "source": [
        "data=[]\n",
        "for column in dataset.columns:\n",
        "  for i in missing:\n",
        "    if i==column:\n",
        "      dataset.drop(i,axis=1,inplace=True)\n",
        "  data.append(i)\n",
        "print(data)"
      ],
      "metadata": {
        "colab": {
          "base_uri": "https://localhost:8080/"
        },
        "id": "VGhHzuprvoKp",
        "outputId": "d023ae19-9b2f-48e4-b4c1-9d8ff64fea87"
      },
      "execution_count": 9,
      "outputs": [
        {
          "output_type": "stream",
          "name": "stdout",
          "text": [
            "['MiscFeature', 'MiscFeature', 'MiscFeature', 'MiscFeature', 'MiscFeature', 'MiscFeature', 'MiscFeature', 'MiscFeature', 'MiscFeature', 'MiscFeature', 'MiscFeature', 'MiscFeature', 'MiscFeature', 'MiscFeature', 'MiscFeature', 'MiscFeature', 'MiscFeature', 'MiscFeature', 'MiscFeature', 'MiscFeature', 'MiscFeature', 'MiscFeature', 'MiscFeature', 'MiscFeature', 'MiscFeature', 'MiscFeature', 'MiscFeature', 'MiscFeature', 'MiscFeature', 'MiscFeature', 'MiscFeature', 'MiscFeature', 'MiscFeature', 'MiscFeature', 'MiscFeature', 'MiscFeature', 'MiscFeature', 'MiscFeature', 'MiscFeature', 'MiscFeature', 'MiscFeature', 'MiscFeature', 'MiscFeature', 'MiscFeature', 'MiscFeature', 'MiscFeature', 'MiscFeature', 'MiscFeature', 'MiscFeature', 'MiscFeature', 'MiscFeature', 'MiscFeature', 'MiscFeature', 'MiscFeature', 'MiscFeature', 'MiscFeature', 'MiscFeature', 'MiscFeature', 'MiscFeature', 'MiscFeature', 'MiscFeature', 'MiscFeature', 'MiscFeature', 'MiscFeature', 'MiscFeature', 'MiscFeature', 'MiscFeature', 'MiscFeature', 'MiscFeature', 'MiscFeature', 'MiscFeature', 'MiscFeature', 'MiscFeature', 'MiscFeature', 'MiscFeature', 'MiscFeature', 'MiscFeature', 'MiscFeature', 'MiscFeature', 'MiscFeature', 'MiscFeature']\n"
          ]
        }
      ]
    },
    {
      "cell_type": "code",
      "source": [
        "dataset.shape"
      ],
      "metadata": {
        "colab": {
          "base_uri": "https://localhost:8080/"
        },
        "id": "oDrhFkxIwukf",
        "outputId": "cd7d3fd5-959d-462f-9be2-a5b24dc09681"
      },
      "execution_count": 10,
      "outputs": [
        {
          "output_type": "execute_result",
          "data": {
            "text/plain": [
              "(1460, 62)"
            ]
          },
          "metadata": {},
          "execution_count": 10
        }
      ]
    },
    {
      "cell_type": "code",
      "source": [
        "dataset.isnull().sum()"
      ],
      "metadata": {
        "colab": {
          "base_uri": "https://localhost:8080/"
        },
        "id": "QjNzVqoaxNv7",
        "outputId": "d3d5ba2b-30b7-4e4c-e7f0-36736dcc55fb"
      },
      "execution_count": 11,
      "outputs": [
        {
          "output_type": "execute_result",
          "data": {
            "text/plain": [
              "Id               0\n",
              "MSSubClass       0\n",
              "MSZoning         0\n",
              "LotArea          0\n",
              "Street           0\n",
              "                ..\n",
              "MoSold           0\n",
              "YrSold           0\n",
              "SaleType         0\n",
              "SaleCondition    0\n",
              "SalePrice        0\n",
              "Length: 62, dtype: int64"
            ]
          },
          "metadata": {},
          "execution_count": 11
        }
      ]
    },
    {
      "cell_type": "code",
      "source": [
        "dataset.columns[dataset.isna().any()]"
      ],
      "metadata": {
        "colab": {
          "base_uri": "https://localhost:8080/"
        },
        "id": "X760yhyWxvZv",
        "outputId": "a098bc1a-1d3a-49a1-f52a-27576d15f0fb"
      },
      "execution_count": 12,
      "outputs": [
        {
          "output_type": "execute_result",
          "data": {
            "text/plain": [
              "Index([], dtype='object')"
            ]
          },
          "metadata": {},
          "execution_count": 12
        }
      ]
    },
    {
      "cell_type": "code",
      "source": [
        "dataset.info()"
      ],
      "metadata": {
        "colab": {
          "base_uri": "https://localhost:8080/"
        },
        "id": "jhEJ8tidx9C_",
        "outputId": "a4adf549-2cfc-4faa-d2a1-e05db613d14d"
      },
      "execution_count": 13,
      "outputs": [
        {
          "output_type": "stream",
          "name": "stdout",
          "text": [
            "<class 'pandas.core.frame.DataFrame'>\n",
            "RangeIndex: 1460 entries, 0 to 1459\n",
            "Data columns (total 62 columns):\n",
            " #   Column         Non-Null Count  Dtype \n",
            "---  ------         --------------  ----- \n",
            " 0   Id             1460 non-null   int64 \n",
            " 1   MSSubClass     1460 non-null   int64 \n",
            " 2   MSZoning       1460 non-null   object\n",
            " 3   LotArea        1460 non-null   int64 \n",
            " 4   Street         1460 non-null   object\n",
            " 5   LotShape       1460 non-null   object\n",
            " 6   LandContour    1460 non-null   object\n",
            " 7   Utilities      1460 non-null   object\n",
            " 8   LotConfig      1460 non-null   object\n",
            " 9   LandSlope      1460 non-null   object\n",
            " 10  Neighborhood   1460 non-null   object\n",
            " 11  Condition1     1460 non-null   object\n",
            " 12  Condition2     1460 non-null   object\n",
            " 13  BldgType       1460 non-null   object\n",
            " 14  HouseStyle     1460 non-null   object\n",
            " 15  OverallQual    1460 non-null   int64 \n",
            " 16  OverallCond    1460 non-null   int64 \n",
            " 17  YearBuilt      1460 non-null   int64 \n",
            " 18  YearRemodAdd   1460 non-null   int64 \n",
            " 19  RoofStyle      1460 non-null   object\n",
            " 20  RoofMatl       1460 non-null   object\n",
            " 21  Exterior1st    1460 non-null   object\n",
            " 22  Exterior2nd    1460 non-null   object\n",
            " 23  ExterQual      1460 non-null   object\n",
            " 24  ExterCond      1460 non-null   object\n",
            " 25  Foundation     1460 non-null   object\n",
            " 26  BsmtFinSF1     1460 non-null   int64 \n",
            " 27  BsmtFinSF2     1460 non-null   int64 \n",
            " 28  BsmtUnfSF      1460 non-null   int64 \n",
            " 29  TotalBsmtSF    1460 non-null   int64 \n",
            " 30  Heating        1460 non-null   object\n",
            " 31  HeatingQC      1460 non-null   object\n",
            " 32  CentralAir     1460 non-null   object\n",
            " 33  1stFlrSF       1460 non-null   int64 \n",
            " 34  2ndFlrSF       1460 non-null   int64 \n",
            " 35  LowQualFinSF   1460 non-null   int64 \n",
            " 36  GrLivArea      1460 non-null   int64 \n",
            " 37  BsmtFullBath   1460 non-null   int64 \n",
            " 38  BsmtHalfBath   1460 non-null   int64 \n",
            " 39  FullBath       1460 non-null   int64 \n",
            " 40  HalfBath       1460 non-null   int64 \n",
            " 41  BedroomAbvGr   1460 non-null   int64 \n",
            " 42  KitchenAbvGr   1460 non-null   int64 \n",
            " 43  KitchenQual    1460 non-null   object\n",
            " 44  TotRmsAbvGrd   1460 non-null   int64 \n",
            " 45  Functional     1460 non-null   object\n",
            " 46  Fireplaces     1460 non-null   int64 \n",
            " 47  GarageCars     1460 non-null   int64 \n",
            " 48  GarageArea     1460 non-null   int64 \n",
            " 49  PavedDrive     1460 non-null   object\n",
            " 50  WoodDeckSF     1460 non-null   int64 \n",
            " 51  OpenPorchSF    1460 non-null   int64 \n",
            " 52  EnclosedPorch  1460 non-null   int64 \n",
            " 53  3SsnPorch      1460 non-null   int64 \n",
            " 54  ScreenPorch    1460 non-null   int64 \n",
            " 55  PoolArea       1460 non-null   int64 \n",
            " 56  MiscVal        1460 non-null   int64 \n",
            " 57  MoSold         1460 non-null   int64 \n",
            " 58  YrSold         1460 non-null   int64 \n",
            " 59  SaleType       1460 non-null   object\n",
            " 60  SaleCondition  1460 non-null   object\n",
            " 61  SalePrice      1460 non-null   int64 \n",
            "dtypes: int64(35), object(27)\n",
            "memory usage: 707.3+ KB\n"
          ]
        }
      ]
    },
    {
      "cell_type": "code",
      "source": [
        "dataset.head()"
      ],
      "metadata": {
        "colab": {
          "base_uri": "https://localhost:8080/",
          "height": 299
        },
        "id": "oHvNaXFDytYY",
        "outputId": "c8d46dc9-2dec-4240-ac68-8acebe6f24a1"
      },
      "execution_count": 14,
      "outputs": [
        {
          "output_type": "execute_result",
          "data": {
            "text/plain": [
              "   Id  MSSubClass MSZoning  LotArea Street LotShape LandContour Utilities  \\\n",
              "0   1          60       RL     8450   Pave      Reg         Lvl    AllPub   \n",
              "1   2          20       RL     9600   Pave      Reg         Lvl    AllPub   \n",
              "2   3          60       RL    11250   Pave      IR1         Lvl    AllPub   \n",
              "3   4          70       RL     9550   Pave      IR1         Lvl    AllPub   \n",
              "4   5          60       RL    14260   Pave      IR1         Lvl    AllPub   \n",
              "\n",
              "  LotConfig LandSlope  ... EnclosedPorch 3SsnPorch ScreenPorch PoolArea  \\\n",
              "0    Inside       Gtl  ...             0         0           0        0   \n",
              "1       FR2       Gtl  ...             0         0           0        0   \n",
              "2    Inside       Gtl  ...             0         0           0        0   \n",
              "3    Corner       Gtl  ...           272         0           0        0   \n",
              "4       FR2       Gtl  ...             0         0           0        0   \n",
              "\n",
              "  MiscVal  MoSold  YrSold  SaleType  SaleCondition SalePrice  \n",
              "0       0       2    2008        WD         Normal    208500  \n",
              "1       0       5    2007        WD         Normal    181500  \n",
              "2       0       9    2008        WD         Normal    223500  \n",
              "3       0       2    2006        WD        Abnorml    140000  \n",
              "4       0      12    2008        WD         Normal    250000  \n",
              "\n",
              "[5 rows x 62 columns]"
            ],
            "text/html": [
              "\n",
              "  <div id=\"df-8a30d31f-18c0-4533-9a1e-5497a4d7d104\">\n",
              "    <div class=\"colab-df-container\">\n",
              "      <div>\n",
              "<style scoped>\n",
              "    .dataframe tbody tr th:only-of-type {\n",
              "        vertical-align: middle;\n",
              "    }\n",
              "\n",
              "    .dataframe tbody tr th {\n",
              "        vertical-align: top;\n",
              "    }\n",
              "\n",
              "    .dataframe thead th {\n",
              "        text-align: right;\n",
              "    }\n",
              "</style>\n",
              "<table border=\"1\" class=\"dataframe\">\n",
              "  <thead>\n",
              "    <tr style=\"text-align: right;\">\n",
              "      <th></th>\n",
              "      <th>Id</th>\n",
              "      <th>MSSubClass</th>\n",
              "      <th>MSZoning</th>\n",
              "      <th>LotArea</th>\n",
              "      <th>Street</th>\n",
              "      <th>LotShape</th>\n",
              "      <th>LandContour</th>\n",
              "      <th>Utilities</th>\n",
              "      <th>LotConfig</th>\n",
              "      <th>LandSlope</th>\n",
              "      <th>...</th>\n",
              "      <th>EnclosedPorch</th>\n",
              "      <th>3SsnPorch</th>\n",
              "      <th>ScreenPorch</th>\n",
              "      <th>PoolArea</th>\n",
              "      <th>MiscVal</th>\n",
              "      <th>MoSold</th>\n",
              "      <th>YrSold</th>\n",
              "      <th>SaleType</th>\n",
              "      <th>SaleCondition</th>\n",
              "      <th>SalePrice</th>\n",
              "    </tr>\n",
              "  </thead>\n",
              "  <tbody>\n",
              "    <tr>\n",
              "      <th>0</th>\n",
              "      <td>1</td>\n",
              "      <td>60</td>\n",
              "      <td>RL</td>\n",
              "      <td>8450</td>\n",
              "      <td>Pave</td>\n",
              "      <td>Reg</td>\n",
              "      <td>Lvl</td>\n",
              "      <td>AllPub</td>\n",
              "      <td>Inside</td>\n",
              "      <td>Gtl</td>\n",
              "      <td>...</td>\n",
              "      <td>0</td>\n",
              "      <td>0</td>\n",
              "      <td>0</td>\n",
              "      <td>0</td>\n",
              "      <td>0</td>\n",
              "      <td>2</td>\n",
              "      <td>2008</td>\n",
              "      <td>WD</td>\n",
              "      <td>Normal</td>\n",
              "      <td>208500</td>\n",
              "    </tr>\n",
              "    <tr>\n",
              "      <th>1</th>\n",
              "      <td>2</td>\n",
              "      <td>20</td>\n",
              "      <td>RL</td>\n",
              "      <td>9600</td>\n",
              "      <td>Pave</td>\n",
              "      <td>Reg</td>\n",
              "      <td>Lvl</td>\n",
              "      <td>AllPub</td>\n",
              "      <td>FR2</td>\n",
              "      <td>Gtl</td>\n",
              "      <td>...</td>\n",
              "      <td>0</td>\n",
              "      <td>0</td>\n",
              "      <td>0</td>\n",
              "      <td>0</td>\n",
              "      <td>0</td>\n",
              "      <td>5</td>\n",
              "      <td>2007</td>\n",
              "      <td>WD</td>\n",
              "      <td>Normal</td>\n",
              "      <td>181500</td>\n",
              "    </tr>\n",
              "    <tr>\n",
              "      <th>2</th>\n",
              "      <td>3</td>\n",
              "      <td>60</td>\n",
              "      <td>RL</td>\n",
              "      <td>11250</td>\n",
              "      <td>Pave</td>\n",
              "      <td>IR1</td>\n",
              "      <td>Lvl</td>\n",
              "      <td>AllPub</td>\n",
              "      <td>Inside</td>\n",
              "      <td>Gtl</td>\n",
              "      <td>...</td>\n",
              "      <td>0</td>\n",
              "      <td>0</td>\n",
              "      <td>0</td>\n",
              "      <td>0</td>\n",
              "      <td>0</td>\n",
              "      <td>9</td>\n",
              "      <td>2008</td>\n",
              "      <td>WD</td>\n",
              "      <td>Normal</td>\n",
              "      <td>223500</td>\n",
              "    </tr>\n",
              "    <tr>\n",
              "      <th>3</th>\n",
              "      <td>4</td>\n",
              "      <td>70</td>\n",
              "      <td>RL</td>\n",
              "      <td>9550</td>\n",
              "      <td>Pave</td>\n",
              "      <td>IR1</td>\n",
              "      <td>Lvl</td>\n",
              "      <td>AllPub</td>\n",
              "      <td>Corner</td>\n",
              "      <td>Gtl</td>\n",
              "      <td>...</td>\n",
              "      <td>272</td>\n",
              "      <td>0</td>\n",
              "      <td>0</td>\n",
              "      <td>0</td>\n",
              "      <td>0</td>\n",
              "      <td>2</td>\n",
              "      <td>2006</td>\n",
              "      <td>WD</td>\n",
              "      <td>Abnorml</td>\n",
              "      <td>140000</td>\n",
              "    </tr>\n",
              "    <tr>\n",
              "      <th>4</th>\n",
              "      <td>5</td>\n",
              "      <td>60</td>\n",
              "      <td>RL</td>\n",
              "      <td>14260</td>\n",
              "      <td>Pave</td>\n",
              "      <td>IR1</td>\n",
              "      <td>Lvl</td>\n",
              "      <td>AllPub</td>\n",
              "      <td>FR2</td>\n",
              "      <td>Gtl</td>\n",
              "      <td>...</td>\n",
              "      <td>0</td>\n",
              "      <td>0</td>\n",
              "      <td>0</td>\n",
              "      <td>0</td>\n",
              "      <td>0</td>\n",
              "      <td>12</td>\n",
              "      <td>2008</td>\n",
              "      <td>WD</td>\n",
              "      <td>Normal</td>\n",
              "      <td>250000</td>\n",
              "    </tr>\n",
              "  </tbody>\n",
              "</table>\n",
              "<p>5 rows × 62 columns</p>\n",
              "</div>\n",
              "      <button class=\"colab-df-convert\" onclick=\"convertToInteractive('df-8a30d31f-18c0-4533-9a1e-5497a4d7d104')\"\n",
              "              title=\"Convert this dataframe to an interactive table.\"\n",
              "              style=\"display:none;\">\n",
              "        \n",
              "  <svg xmlns=\"http://www.w3.org/2000/svg\" height=\"24px\"viewBox=\"0 0 24 24\"\n",
              "       width=\"24px\">\n",
              "    <path d=\"M0 0h24v24H0V0z\" fill=\"none\"/>\n",
              "    <path d=\"M18.56 5.44l.94 2.06.94-2.06 2.06-.94-2.06-.94-.94-2.06-.94 2.06-2.06.94zm-11 1L8.5 8.5l.94-2.06 2.06-.94-2.06-.94L8.5 2.5l-.94 2.06-2.06.94zm10 10l.94 2.06.94-2.06 2.06-.94-2.06-.94-.94-2.06-.94 2.06-2.06.94z\"/><path d=\"M17.41 7.96l-1.37-1.37c-.4-.4-.92-.59-1.43-.59-.52 0-1.04.2-1.43.59L10.3 9.45l-7.72 7.72c-.78.78-.78 2.05 0 2.83L4 21.41c.39.39.9.59 1.41.59.51 0 1.02-.2 1.41-.59l7.78-7.78 2.81-2.81c.8-.78.8-2.07 0-2.86zM5.41 20L4 18.59l7.72-7.72 1.47 1.35L5.41 20z\"/>\n",
              "  </svg>\n",
              "      </button>\n",
              "      \n",
              "  <style>\n",
              "    .colab-df-container {\n",
              "      display:flex;\n",
              "      flex-wrap:wrap;\n",
              "      gap: 12px;\n",
              "    }\n",
              "\n",
              "    .colab-df-convert {\n",
              "      background-color: #E8F0FE;\n",
              "      border: none;\n",
              "      border-radius: 50%;\n",
              "      cursor: pointer;\n",
              "      display: none;\n",
              "      fill: #1967D2;\n",
              "      height: 32px;\n",
              "      padding: 0 0 0 0;\n",
              "      width: 32px;\n",
              "    }\n",
              "\n",
              "    .colab-df-convert:hover {\n",
              "      background-color: #E2EBFA;\n",
              "      box-shadow: 0px 1px 2px rgba(60, 64, 67, 0.3), 0px 1px 3px 1px rgba(60, 64, 67, 0.15);\n",
              "      fill: #174EA6;\n",
              "    }\n",
              "\n",
              "    [theme=dark] .colab-df-convert {\n",
              "      background-color: #3B4455;\n",
              "      fill: #D2E3FC;\n",
              "    }\n",
              "\n",
              "    [theme=dark] .colab-df-convert:hover {\n",
              "      background-color: #434B5C;\n",
              "      box-shadow: 0px 1px 3px 1px rgba(0, 0, 0, 0.15);\n",
              "      filter: drop-shadow(0px 1px 2px rgba(0, 0, 0, 0.3));\n",
              "      fill: #FFFFFF;\n",
              "    }\n",
              "  </style>\n",
              "\n",
              "      <script>\n",
              "        const buttonEl =\n",
              "          document.querySelector('#df-8a30d31f-18c0-4533-9a1e-5497a4d7d104 button.colab-df-convert');\n",
              "        buttonEl.style.display =\n",
              "          google.colab.kernel.accessAllowed ? 'block' : 'none';\n",
              "\n",
              "        async function convertToInteractive(key) {\n",
              "          const element = document.querySelector('#df-8a30d31f-18c0-4533-9a1e-5497a4d7d104');\n",
              "          const dataTable =\n",
              "            await google.colab.kernel.invokeFunction('convertToInteractive',\n",
              "                                                     [key], {});\n",
              "          if (!dataTable) return;\n",
              "\n",
              "          const docLinkHtml = 'Like what you see? Visit the ' +\n",
              "            '<a target=\"_blank\" href=https://colab.research.google.com/notebooks/data_table.ipynb>data table notebook</a>'\n",
              "            + ' to learn more about interactive tables.';\n",
              "          element.innerHTML = '';\n",
              "          dataTable['output_type'] = 'display_data';\n",
              "          await google.colab.output.renderOutput(dataTable, element);\n",
              "          const docLink = document.createElement('div');\n",
              "          docLink.innerHTML = docLinkHtml;\n",
              "          element.appendChild(docLink);\n",
              "        }\n",
              "      </script>\n",
              "    </div>\n",
              "  </div>\n",
              "  "
            ]
          },
          "metadata": {},
          "execution_count": 14
        }
      ]
    },
    {
      "cell_type": "code",
      "source": [
        "dataset['MSZoning'].value_counts()"
      ],
      "metadata": {
        "colab": {
          "base_uri": "https://localhost:8080/"
        },
        "id": "cOLyIImsy4V9",
        "outputId": "cfbc9f9a-4a6d-4829-a024-77c6e14d05b8"
      },
      "execution_count": 15,
      "outputs": [
        {
          "output_type": "execute_result",
          "data": {
            "text/plain": [
              "RL         1151\n",
              "RM          218\n",
              "FV           65\n",
              "RH           16\n",
              "C (all)      10\n",
              "Name: MSZoning, dtype: int64"
            ]
          },
          "metadata": {},
          "execution_count": 15
        }
      ]
    },
    {
      "cell_type": "code",
      "source": [
        "dataset.MSZoning=dataset.MSZoning.map({'RL':0,\"RM\":1,\"FV\":2,\"RH\":3,\"C\":4})"
      ],
      "metadata": {
        "id": "rNb2elBRzGVn"
      },
      "execution_count": 16,
      "outputs": []
    },
    {
      "cell_type": "code",
      "source": [
        "dataset['Street'].value_counts()"
      ],
      "metadata": {
        "colab": {
          "base_uri": "https://localhost:8080/"
        },
        "id": "ciMgU4Uz0X-9",
        "outputId": "019bcb47-bbe5-4200-9998-514dde8d70e8"
      },
      "execution_count": 17,
      "outputs": [
        {
          "output_type": "execute_result",
          "data": {
            "text/plain": [
              "Pave    1454\n",
              "Grvl       6\n",
              "Name: Street, dtype: int64"
            ]
          },
          "metadata": {},
          "execution_count": 17
        }
      ]
    },
    {
      "cell_type": "code",
      "source": [
        "dataset.Street=dataset.Street.map({\"Pave\":0,\"Grvl\":1})"
      ],
      "metadata": {
        "id": "tMzlqRpT0hKu"
      },
      "execution_count": 18,
      "outputs": []
    },
    {
      "cell_type": "code",
      "source": [
        "dataset.head()"
      ],
      "metadata": {
        "colab": {
          "base_uri": "https://localhost:8080/",
          "height": 299
        },
        "id": "WH4xVjYR02B_",
        "outputId": "0f287c22-4d8c-400f-a351-33286a284492"
      },
      "execution_count": 19,
      "outputs": [
        {
          "output_type": "execute_result",
          "data": {
            "text/plain": [
              "   Id  MSSubClass  MSZoning  LotArea  Street LotShape LandContour Utilities  \\\n",
              "0   1          60       0.0     8450       0      Reg         Lvl    AllPub   \n",
              "1   2          20       0.0     9600       0      Reg         Lvl    AllPub   \n",
              "2   3          60       0.0    11250       0      IR1         Lvl    AllPub   \n",
              "3   4          70       0.0     9550       0      IR1         Lvl    AllPub   \n",
              "4   5          60       0.0    14260       0      IR1         Lvl    AllPub   \n",
              "\n",
              "  LotConfig LandSlope  ... EnclosedPorch 3SsnPorch ScreenPorch PoolArea  \\\n",
              "0    Inside       Gtl  ...             0         0           0        0   \n",
              "1       FR2       Gtl  ...             0         0           0        0   \n",
              "2    Inside       Gtl  ...             0         0           0        0   \n",
              "3    Corner       Gtl  ...           272         0           0        0   \n",
              "4       FR2       Gtl  ...             0         0           0        0   \n",
              "\n",
              "  MiscVal  MoSold  YrSold  SaleType  SaleCondition SalePrice  \n",
              "0       0       2    2008        WD         Normal    208500  \n",
              "1       0       5    2007        WD         Normal    181500  \n",
              "2       0       9    2008        WD         Normal    223500  \n",
              "3       0       2    2006        WD        Abnorml    140000  \n",
              "4       0      12    2008        WD         Normal    250000  \n",
              "\n",
              "[5 rows x 62 columns]"
            ],
            "text/html": [
              "\n",
              "  <div id=\"df-812003a7-9f21-4d16-b5f5-4242267ccab5\">\n",
              "    <div class=\"colab-df-container\">\n",
              "      <div>\n",
              "<style scoped>\n",
              "    .dataframe tbody tr th:only-of-type {\n",
              "        vertical-align: middle;\n",
              "    }\n",
              "\n",
              "    .dataframe tbody tr th {\n",
              "        vertical-align: top;\n",
              "    }\n",
              "\n",
              "    .dataframe thead th {\n",
              "        text-align: right;\n",
              "    }\n",
              "</style>\n",
              "<table border=\"1\" class=\"dataframe\">\n",
              "  <thead>\n",
              "    <tr style=\"text-align: right;\">\n",
              "      <th></th>\n",
              "      <th>Id</th>\n",
              "      <th>MSSubClass</th>\n",
              "      <th>MSZoning</th>\n",
              "      <th>LotArea</th>\n",
              "      <th>Street</th>\n",
              "      <th>LotShape</th>\n",
              "      <th>LandContour</th>\n",
              "      <th>Utilities</th>\n",
              "      <th>LotConfig</th>\n",
              "      <th>LandSlope</th>\n",
              "      <th>...</th>\n",
              "      <th>EnclosedPorch</th>\n",
              "      <th>3SsnPorch</th>\n",
              "      <th>ScreenPorch</th>\n",
              "      <th>PoolArea</th>\n",
              "      <th>MiscVal</th>\n",
              "      <th>MoSold</th>\n",
              "      <th>YrSold</th>\n",
              "      <th>SaleType</th>\n",
              "      <th>SaleCondition</th>\n",
              "      <th>SalePrice</th>\n",
              "    </tr>\n",
              "  </thead>\n",
              "  <tbody>\n",
              "    <tr>\n",
              "      <th>0</th>\n",
              "      <td>1</td>\n",
              "      <td>60</td>\n",
              "      <td>0.0</td>\n",
              "      <td>8450</td>\n",
              "      <td>0</td>\n",
              "      <td>Reg</td>\n",
              "      <td>Lvl</td>\n",
              "      <td>AllPub</td>\n",
              "      <td>Inside</td>\n",
              "      <td>Gtl</td>\n",
              "      <td>...</td>\n",
              "      <td>0</td>\n",
              "      <td>0</td>\n",
              "      <td>0</td>\n",
              "      <td>0</td>\n",
              "      <td>0</td>\n",
              "      <td>2</td>\n",
              "      <td>2008</td>\n",
              "      <td>WD</td>\n",
              "      <td>Normal</td>\n",
              "      <td>208500</td>\n",
              "    </tr>\n",
              "    <tr>\n",
              "      <th>1</th>\n",
              "      <td>2</td>\n",
              "      <td>20</td>\n",
              "      <td>0.0</td>\n",
              "      <td>9600</td>\n",
              "      <td>0</td>\n",
              "      <td>Reg</td>\n",
              "      <td>Lvl</td>\n",
              "      <td>AllPub</td>\n",
              "      <td>FR2</td>\n",
              "      <td>Gtl</td>\n",
              "      <td>...</td>\n",
              "      <td>0</td>\n",
              "      <td>0</td>\n",
              "      <td>0</td>\n",
              "      <td>0</td>\n",
              "      <td>0</td>\n",
              "      <td>5</td>\n",
              "      <td>2007</td>\n",
              "      <td>WD</td>\n",
              "      <td>Normal</td>\n",
              "      <td>181500</td>\n",
              "    </tr>\n",
              "    <tr>\n",
              "      <th>2</th>\n",
              "      <td>3</td>\n",
              "      <td>60</td>\n",
              "      <td>0.0</td>\n",
              "      <td>11250</td>\n",
              "      <td>0</td>\n",
              "      <td>IR1</td>\n",
              "      <td>Lvl</td>\n",
              "      <td>AllPub</td>\n",
              "      <td>Inside</td>\n",
              "      <td>Gtl</td>\n",
              "      <td>...</td>\n",
              "      <td>0</td>\n",
              "      <td>0</td>\n",
              "      <td>0</td>\n",
              "      <td>0</td>\n",
              "      <td>0</td>\n",
              "      <td>9</td>\n",
              "      <td>2008</td>\n",
              "      <td>WD</td>\n",
              "      <td>Normal</td>\n",
              "      <td>223500</td>\n",
              "    </tr>\n",
              "    <tr>\n",
              "      <th>3</th>\n",
              "      <td>4</td>\n",
              "      <td>70</td>\n",
              "      <td>0.0</td>\n",
              "      <td>9550</td>\n",
              "      <td>0</td>\n",
              "      <td>IR1</td>\n",
              "      <td>Lvl</td>\n",
              "      <td>AllPub</td>\n",
              "      <td>Corner</td>\n",
              "      <td>Gtl</td>\n",
              "      <td>...</td>\n",
              "      <td>272</td>\n",
              "      <td>0</td>\n",
              "      <td>0</td>\n",
              "      <td>0</td>\n",
              "      <td>0</td>\n",
              "      <td>2</td>\n",
              "      <td>2006</td>\n",
              "      <td>WD</td>\n",
              "      <td>Abnorml</td>\n",
              "      <td>140000</td>\n",
              "    </tr>\n",
              "    <tr>\n",
              "      <th>4</th>\n",
              "      <td>5</td>\n",
              "      <td>60</td>\n",
              "      <td>0.0</td>\n",
              "      <td>14260</td>\n",
              "      <td>0</td>\n",
              "      <td>IR1</td>\n",
              "      <td>Lvl</td>\n",
              "      <td>AllPub</td>\n",
              "      <td>FR2</td>\n",
              "      <td>Gtl</td>\n",
              "      <td>...</td>\n",
              "      <td>0</td>\n",
              "      <td>0</td>\n",
              "      <td>0</td>\n",
              "      <td>0</td>\n",
              "      <td>0</td>\n",
              "      <td>12</td>\n",
              "      <td>2008</td>\n",
              "      <td>WD</td>\n",
              "      <td>Normal</td>\n",
              "      <td>250000</td>\n",
              "    </tr>\n",
              "  </tbody>\n",
              "</table>\n",
              "<p>5 rows × 62 columns</p>\n",
              "</div>\n",
              "      <button class=\"colab-df-convert\" onclick=\"convertToInteractive('df-812003a7-9f21-4d16-b5f5-4242267ccab5')\"\n",
              "              title=\"Convert this dataframe to an interactive table.\"\n",
              "              style=\"display:none;\">\n",
              "        \n",
              "  <svg xmlns=\"http://www.w3.org/2000/svg\" height=\"24px\"viewBox=\"0 0 24 24\"\n",
              "       width=\"24px\">\n",
              "    <path d=\"M0 0h24v24H0V0z\" fill=\"none\"/>\n",
              "    <path d=\"M18.56 5.44l.94 2.06.94-2.06 2.06-.94-2.06-.94-.94-2.06-.94 2.06-2.06.94zm-11 1L8.5 8.5l.94-2.06 2.06-.94-2.06-.94L8.5 2.5l-.94 2.06-2.06.94zm10 10l.94 2.06.94-2.06 2.06-.94-2.06-.94-.94-2.06-.94 2.06-2.06.94z\"/><path d=\"M17.41 7.96l-1.37-1.37c-.4-.4-.92-.59-1.43-.59-.52 0-1.04.2-1.43.59L10.3 9.45l-7.72 7.72c-.78.78-.78 2.05 0 2.83L4 21.41c.39.39.9.59 1.41.59.51 0 1.02-.2 1.41-.59l7.78-7.78 2.81-2.81c.8-.78.8-2.07 0-2.86zM5.41 20L4 18.59l7.72-7.72 1.47 1.35L5.41 20z\"/>\n",
              "  </svg>\n",
              "      </button>\n",
              "      \n",
              "  <style>\n",
              "    .colab-df-container {\n",
              "      display:flex;\n",
              "      flex-wrap:wrap;\n",
              "      gap: 12px;\n",
              "    }\n",
              "\n",
              "    .colab-df-convert {\n",
              "      background-color: #E8F0FE;\n",
              "      border: none;\n",
              "      border-radius: 50%;\n",
              "      cursor: pointer;\n",
              "      display: none;\n",
              "      fill: #1967D2;\n",
              "      height: 32px;\n",
              "      padding: 0 0 0 0;\n",
              "      width: 32px;\n",
              "    }\n",
              "\n",
              "    .colab-df-convert:hover {\n",
              "      background-color: #E2EBFA;\n",
              "      box-shadow: 0px 1px 2px rgba(60, 64, 67, 0.3), 0px 1px 3px 1px rgba(60, 64, 67, 0.15);\n",
              "      fill: #174EA6;\n",
              "    }\n",
              "\n",
              "    [theme=dark] .colab-df-convert {\n",
              "      background-color: #3B4455;\n",
              "      fill: #D2E3FC;\n",
              "    }\n",
              "\n",
              "    [theme=dark] .colab-df-convert:hover {\n",
              "      background-color: #434B5C;\n",
              "      box-shadow: 0px 1px 3px 1px rgba(0, 0, 0, 0.15);\n",
              "      filter: drop-shadow(0px 1px 2px rgba(0, 0, 0, 0.3));\n",
              "      fill: #FFFFFF;\n",
              "    }\n",
              "  </style>\n",
              "\n",
              "      <script>\n",
              "        const buttonEl =\n",
              "          document.querySelector('#df-812003a7-9f21-4d16-b5f5-4242267ccab5 button.colab-df-convert');\n",
              "        buttonEl.style.display =\n",
              "          google.colab.kernel.accessAllowed ? 'block' : 'none';\n",
              "\n",
              "        async function convertToInteractive(key) {\n",
              "          const element = document.querySelector('#df-812003a7-9f21-4d16-b5f5-4242267ccab5');\n",
              "          const dataTable =\n",
              "            await google.colab.kernel.invokeFunction('convertToInteractive',\n",
              "                                                     [key], {});\n",
              "          if (!dataTable) return;\n",
              "\n",
              "          const docLinkHtml = 'Like what you see? Visit the ' +\n",
              "            '<a target=\"_blank\" href=https://colab.research.google.com/notebooks/data_table.ipynb>data table notebook</a>'\n",
              "            + ' to learn more about interactive tables.';\n",
              "          element.innerHTML = '';\n",
              "          dataTable['output_type'] = 'display_data';\n",
              "          await google.colab.output.renderOutput(dataTable, element);\n",
              "          const docLink = document.createElement('div');\n",
              "          docLink.innerHTML = docLinkHtml;\n",
              "          element.appendChild(docLink);\n",
              "        }\n",
              "      </script>\n",
              "    </div>\n",
              "  </div>\n",
              "  "
            ]
          },
          "metadata": {},
          "execution_count": 19
        }
      ]
    },
    {
      "cell_type": "code",
      "source": [
        "dataset['LotShape'].value_counts()"
      ],
      "metadata": {
        "colab": {
          "base_uri": "https://localhost:8080/"
        },
        "id": "wtHHddzp04NF",
        "outputId": "982366df-0a65-4827-ce9c-73b4cd2935a6"
      },
      "execution_count": 20,
      "outputs": [
        {
          "output_type": "execute_result",
          "data": {
            "text/plain": [
              "Reg    925\n",
              "IR1    484\n",
              "IR2     41\n",
              "IR3     10\n",
              "Name: LotShape, dtype: int64"
            ]
          },
          "metadata": {},
          "execution_count": 20
        }
      ]
    },
    {
      "cell_type": "code",
      "source": [
        "dataset.LotShape=dataset.LotShape.map({'Reg':0,\"IR1\":1,\"IR2\":2,\"IR3\":3})"
      ],
      "metadata": {
        "id": "D3Xm0kcV1Po2"
      },
      "execution_count": 21,
      "outputs": []
    },
    {
      "cell_type": "code",
      "source": [
        "dataset['LandContour'].value_counts()"
      ],
      "metadata": {
        "colab": {
          "base_uri": "https://localhost:8080/"
        },
        "id": "a4_L8e5i1oWp",
        "outputId": "e56d8156-df1f-44fd-9ed6-653e64cf20bd"
      },
      "execution_count": 22,
      "outputs": [
        {
          "output_type": "execute_result",
          "data": {
            "text/plain": [
              "Lvl    1311\n",
              "Bnk      63\n",
              "HLS      50\n",
              "Low      36\n",
              "Name: LandContour, dtype: int64"
            ]
          },
          "metadata": {},
          "execution_count": 22
        }
      ]
    },
    {
      "cell_type": "code",
      "source": [
        "dataset.LandContour=dataset.LandContour.map({'Lvl':0,\"Bnk\":1,\"HLS\":2,\"Low\":3})"
      ],
      "metadata": {
        "id": "vJ6dfNo91w0Y"
      },
      "execution_count": 23,
      "outputs": []
    },
    {
      "cell_type": "code",
      "source": [
        "dataset['Utilities'].value_counts()"
      ],
      "metadata": {
        "colab": {
          "base_uri": "https://localhost:8080/"
        },
        "id": "FSD7Cqh42PQe",
        "outputId": "b118c7e3-c41a-4f56-83ed-5b89f35b2bc9"
      },
      "execution_count": 24,
      "outputs": [
        {
          "output_type": "execute_result",
          "data": {
            "text/plain": [
              "AllPub    1459\n",
              "NoSeWa       1\n",
              "Name: Utilities, dtype: int64"
            ]
          },
          "metadata": {},
          "execution_count": 24
        }
      ]
    },
    {
      "cell_type": "code",
      "source": [
        "dataset.Utilities=dataset.Utilities.map({\"AllPub\":0,\"NoSeWa\":1})"
      ],
      "metadata": {
        "id": "ZboutN_P2aT4"
      },
      "execution_count": 25,
      "outputs": []
    },
    {
      "cell_type": "code",
      "source": [
        "dataset['LotConfig'].value_counts()"
      ],
      "metadata": {
        "colab": {
          "base_uri": "https://localhost:8080/"
        },
        "id": "Ebo4dljX2pFq",
        "outputId": "12cd4327-8af8-427d-eb88-1802082eba78"
      },
      "execution_count": 26,
      "outputs": [
        {
          "output_type": "execute_result",
          "data": {
            "text/plain": [
              "Inside     1052\n",
              "Corner      263\n",
              "CulDSac      94\n",
              "FR2          47\n",
              "FR3           4\n",
              "Name: LotConfig, dtype: int64"
            ]
          },
          "metadata": {},
          "execution_count": 26
        }
      ]
    },
    {
      "cell_type": "code",
      "source": [
        "dataset.LotConfig=dataset.LotConfig.map({'Inside':0,\"Corner\":1,\"CulDSac\":2,\"FR2\":3,\"FR3\":4})"
      ],
      "metadata": {
        "id": "NEnz8n0R23-g"
      },
      "execution_count": 27,
      "outputs": []
    },
    {
      "cell_type": "code",
      "source": [
        "dataset['LandSlope'].value_counts()"
      ],
      "metadata": {
        "colab": {
          "base_uri": "https://localhost:8080/"
        },
        "id": "0NG_cHOO3bLn",
        "outputId": "d766866a-80c2-41b2-e790-96fc53e41fa4"
      },
      "execution_count": 28,
      "outputs": [
        {
          "output_type": "execute_result",
          "data": {
            "text/plain": [
              "Gtl    1382\n",
              "Mod      65\n",
              "Sev      13\n",
              "Name: LandSlope, dtype: int64"
            ]
          },
          "metadata": {},
          "execution_count": 28
        }
      ]
    },
    {
      "cell_type": "code",
      "source": [
        "dataset.LandSlope=dataset.LandSlope.map({'Gtl':0,\"Mod\":1,\"Sev\":2})"
      ],
      "metadata": {
        "id": "8eUbRRAL3oke"
      },
      "execution_count": 29,
      "outputs": []
    },
    {
      "cell_type": "code",
      "source": [
        "dataset['HouseStyle'].value_counts()"
      ],
      "metadata": {
        "colab": {
          "base_uri": "https://localhost:8080/"
        },
        "id": "stZ41dNi6Pnq",
        "outputId": "15d43a31-8d55-432b-83ea-f6e712f9120a"
      },
      "execution_count": 30,
      "outputs": [
        {
          "output_type": "execute_result",
          "data": {
            "text/plain": [
              "1Story    726\n",
              "2Story    445\n",
              "1.5Fin    154\n",
              "SLvl       65\n",
              "SFoyer     37\n",
              "1.5Unf     14\n",
              "2.5Unf     11\n",
              "2.5Fin      8\n",
              "Name: HouseStyle, dtype: int64"
            ]
          },
          "metadata": {},
          "execution_count": 30
        }
      ]
    },
    {
      "cell_type": "code",
      "source": [
        "dataset.HouseStyle=dataset.HouseStyle.map({'1Story':0,\"2Story\":1,\"1.5Fin\":2,\"SLvl\":3,\"SFoyer\":4,\"1.5Unf\":5,\"2.5Unf\":6,\"2.5Fin\":7})"
      ],
      "metadata": {
        "id": "1FYp6_N260w1"
      },
      "execution_count": 31,
      "outputs": []
    },
    {
      "cell_type": "code",
      "source": [
        "for i in dataset.columns:\n",
        "  if dataset[i].dtype!=dataset['HouseStyle'].dtype:\n",
        "    dataset.drop(i,axis=1,inplace=True)\n"
      ],
      "metadata": {
        "id": "L2I1fPZQ70N5"
      },
      "execution_count": 32,
      "outputs": []
    },
    {
      "cell_type": "code",
      "source": [
        "dataset.info()"
      ],
      "metadata": {
        "colab": {
          "base_uri": "https://localhost:8080/"
        },
        "id": "pSRWLZRf-Vcj",
        "outputId": "5b6e98b4-a035-48a4-a4bd-80413c3d0c94"
      },
      "execution_count": 33,
      "outputs": [
        {
          "output_type": "stream",
          "name": "stdout",
          "text": [
            "<class 'pandas.core.frame.DataFrame'>\n",
            "RangeIndex: 1460 entries, 0 to 1459\n",
            "Data columns (total 42 columns):\n",
            " #   Column         Non-Null Count  Dtype\n",
            "---  ------         --------------  -----\n",
            " 0   Id             1460 non-null   int64\n",
            " 1   MSSubClass     1460 non-null   int64\n",
            " 2   LotArea        1460 non-null   int64\n",
            " 3   Street         1460 non-null   int64\n",
            " 4   LotShape       1460 non-null   int64\n",
            " 5   LandContour    1460 non-null   int64\n",
            " 6   Utilities      1460 non-null   int64\n",
            " 7   LotConfig      1460 non-null   int64\n",
            " 8   LandSlope      1460 non-null   int64\n",
            " 9   HouseStyle     1460 non-null   int64\n",
            " 10  OverallQual    1460 non-null   int64\n",
            " 11  OverallCond    1460 non-null   int64\n",
            " 12  YearBuilt      1460 non-null   int64\n",
            " 13  YearRemodAdd   1460 non-null   int64\n",
            " 14  BsmtFinSF1     1460 non-null   int64\n",
            " 15  BsmtFinSF2     1460 non-null   int64\n",
            " 16  BsmtUnfSF      1460 non-null   int64\n",
            " 17  TotalBsmtSF    1460 non-null   int64\n",
            " 18  1stFlrSF       1460 non-null   int64\n",
            " 19  2ndFlrSF       1460 non-null   int64\n",
            " 20  LowQualFinSF   1460 non-null   int64\n",
            " 21  GrLivArea      1460 non-null   int64\n",
            " 22  BsmtFullBath   1460 non-null   int64\n",
            " 23  BsmtHalfBath   1460 non-null   int64\n",
            " 24  FullBath       1460 non-null   int64\n",
            " 25  HalfBath       1460 non-null   int64\n",
            " 26  BedroomAbvGr   1460 non-null   int64\n",
            " 27  KitchenAbvGr   1460 non-null   int64\n",
            " 28  TotRmsAbvGrd   1460 non-null   int64\n",
            " 29  Fireplaces     1460 non-null   int64\n",
            " 30  GarageCars     1460 non-null   int64\n",
            " 31  GarageArea     1460 non-null   int64\n",
            " 32  WoodDeckSF     1460 non-null   int64\n",
            " 33  OpenPorchSF    1460 non-null   int64\n",
            " 34  EnclosedPorch  1460 non-null   int64\n",
            " 35  3SsnPorch      1460 non-null   int64\n",
            " 36  ScreenPorch    1460 non-null   int64\n",
            " 37  PoolArea       1460 non-null   int64\n",
            " 38  MiscVal        1460 non-null   int64\n",
            " 39  MoSold         1460 non-null   int64\n",
            " 40  YrSold         1460 non-null   int64\n",
            " 41  SalePrice      1460 non-null   int64\n",
            "dtypes: int64(42)\n",
            "memory usage: 479.2 KB\n"
          ]
        }
      ]
    },
    {
      "cell_type": "markdown",
      "source": [
        "**Segregating into x and y**"
      ],
      "metadata": {
        "id": "337ibRdr4PVe"
      }
    },
    {
      "cell_type": "code",
      "source": [
        "x=dataset.iloc[:,:41]\n",
        "print(x)"
      ],
      "metadata": {
        "colab": {
          "base_uri": "https://localhost:8080/"
        },
        "id": "YZx2uMSF3-4o",
        "outputId": "5ac0f397-a884-4ae6-c55e-b943a2193e23"
      },
      "execution_count": 36,
      "outputs": [
        {
          "output_type": "stream",
          "name": "stdout",
          "text": [
            "        Id  MSSubClass  LotArea  Street  LotShape  LandContour  Utilities  \\\n",
            "0        1          60     8450       0         0            0          0   \n",
            "1        2          20     9600       0         0            0          0   \n",
            "2        3          60    11250       0         1            0          0   \n",
            "3        4          70     9550       0         1            0          0   \n",
            "4        5          60    14260       0         1            0          0   \n",
            "...    ...         ...      ...     ...       ...          ...        ...   \n",
            "1455  1456          60     7917       0         0            0          0   \n",
            "1456  1457          20    13175       0         0            0          0   \n",
            "1457  1458          70     9042       0         0            0          0   \n",
            "1458  1459          20     9717       0         0            0          0   \n",
            "1459  1460          20     9937       0         0            0          0   \n",
            "\n",
            "      LotConfig  LandSlope  HouseStyle  ...  GarageArea  WoodDeckSF  \\\n",
            "0             0          0           1  ...         548           0   \n",
            "1             3          0           0  ...         460         298   \n",
            "2             0          0           1  ...         608           0   \n",
            "3             1          0           1  ...         642           0   \n",
            "4             3          0           1  ...         836         192   \n",
            "...         ...        ...         ...  ...         ...         ...   \n",
            "1455          0          0           1  ...         460           0   \n",
            "1456          0          0           0  ...         500         349   \n",
            "1457          0          0           1  ...         252           0   \n",
            "1458          0          0           0  ...         240         366   \n",
            "1459          0          0           0  ...         276         736   \n",
            "\n",
            "      OpenPorchSF  EnclosedPorch  3SsnPorch  ScreenPorch  PoolArea  MiscVal  \\\n",
            "0              61              0          0            0         0        0   \n",
            "1               0              0          0            0         0        0   \n",
            "2              42              0          0            0         0        0   \n",
            "3              35            272          0            0         0        0   \n",
            "4              84              0          0            0         0        0   \n",
            "...           ...            ...        ...          ...       ...      ...   \n",
            "1455           40              0          0            0         0        0   \n",
            "1456            0              0          0            0         0        0   \n",
            "1457           60              0          0            0         0     2500   \n",
            "1458            0            112          0            0         0        0   \n",
            "1459           68              0          0            0         0        0   \n",
            "\n",
            "      MoSold  YrSold  \n",
            "0          2    2008  \n",
            "1          5    2007  \n",
            "2          9    2008  \n",
            "3          2    2006  \n",
            "4         12    2008  \n",
            "...      ...     ...  \n",
            "1455       8    2007  \n",
            "1456       2    2010  \n",
            "1457       5    2010  \n",
            "1458       4    2010  \n",
            "1459       6    2008  \n",
            "\n",
            "[1460 rows x 41 columns]\n"
          ]
        }
      ]
    },
    {
      "cell_type": "code",
      "source": [
        "y=dataset.iloc[:,41]\n",
        "print(y)"
      ],
      "metadata": {
        "colab": {
          "base_uri": "https://localhost:8080/"
        },
        "id": "OdZ6KoIJ4eWm",
        "outputId": "fb4810bd-b509-4e8b-8a74-c528927d798f"
      },
      "execution_count": 37,
      "outputs": [
        {
          "output_type": "stream",
          "name": "stdout",
          "text": [
            "0       208500\n",
            "1       181500\n",
            "2       223500\n",
            "3       140000\n",
            "4       250000\n",
            "         ...  \n",
            "1455    175000\n",
            "1456    210000\n",
            "1457    266500\n",
            "1458    142125\n",
            "1459    147500\n",
            "Name: SalePrice, Length: 1460, dtype: int64\n"
          ]
        }
      ]
    },
    {
      "cell_type": "markdown",
      "source": [
        "**Spliting into train and test**"
      ],
      "metadata": {
        "id": "XtmQolod4zAk"
      }
    },
    {
      "cell_type": "code",
      "source": [
        "from sklearn.model_selection import train_test_split\n",
        "x_train,x_test,y_train,y_test=train_test_split(x,y,test_size=0.25,random_state=0)"
      ],
      "metadata": {
        "id": "xkElTGw34w6k"
      },
      "execution_count": 38,
      "outputs": []
    },
    {
      "cell_type": "markdown",
      "source": [
        "**Algorithm**"
      ],
      "metadata": {
        "id": "egGJLvtl5QGM"
      }
    },
    {
      "cell_type": "code",
      "source": [
        "from sklearn.linear_model import LinearRegression\n",
        "model=LinearRegression()\n",
        "model.fit(x_train,y_train)"
      ],
      "metadata": {
        "colab": {
          "base_uri": "https://localhost:8080/",
          "height": 74
        },
        "id": "jD2zPwpy5Izf",
        "outputId": "98d756e1-8b11-43e3-8d94-929ce0434fea"
      },
      "execution_count": 39,
      "outputs": [
        {
          "output_type": "execute_result",
          "data": {
            "text/plain": [
              "LinearRegression()"
            ],
            "text/html": [
              "<style>#sk-container-id-1 {color: black;background-color: white;}#sk-container-id-1 pre{padding: 0;}#sk-container-id-1 div.sk-toggleable {background-color: white;}#sk-container-id-1 label.sk-toggleable__label {cursor: pointer;display: block;width: 100%;margin-bottom: 0;padding: 0.3em;box-sizing: border-box;text-align: center;}#sk-container-id-1 label.sk-toggleable__label-arrow:before {content: \"▸\";float: left;margin-right: 0.25em;color: #696969;}#sk-container-id-1 label.sk-toggleable__label-arrow:hover:before {color: black;}#sk-container-id-1 div.sk-estimator:hover label.sk-toggleable__label-arrow:before {color: black;}#sk-container-id-1 div.sk-toggleable__content {max-height: 0;max-width: 0;overflow: hidden;text-align: left;background-color: #f0f8ff;}#sk-container-id-1 div.sk-toggleable__content pre {margin: 0.2em;color: black;border-radius: 0.25em;background-color: #f0f8ff;}#sk-container-id-1 input.sk-toggleable__control:checked~div.sk-toggleable__content {max-height: 200px;max-width: 100%;overflow: auto;}#sk-container-id-1 input.sk-toggleable__control:checked~label.sk-toggleable__label-arrow:before {content: \"▾\";}#sk-container-id-1 div.sk-estimator input.sk-toggleable__control:checked~label.sk-toggleable__label {background-color: #d4ebff;}#sk-container-id-1 div.sk-label input.sk-toggleable__control:checked~label.sk-toggleable__label {background-color: #d4ebff;}#sk-container-id-1 input.sk-hidden--visually {border: 0;clip: rect(1px 1px 1px 1px);clip: rect(1px, 1px, 1px, 1px);height: 1px;margin: -1px;overflow: hidden;padding: 0;position: absolute;width: 1px;}#sk-container-id-1 div.sk-estimator {font-family: monospace;background-color: #f0f8ff;border: 1px dotted black;border-radius: 0.25em;box-sizing: border-box;margin-bottom: 0.5em;}#sk-container-id-1 div.sk-estimator:hover {background-color: #d4ebff;}#sk-container-id-1 div.sk-parallel-item::after {content: \"\";width: 100%;border-bottom: 1px solid gray;flex-grow: 1;}#sk-container-id-1 div.sk-label:hover label.sk-toggleable__label {background-color: #d4ebff;}#sk-container-id-1 div.sk-serial::before {content: \"\";position: absolute;border-left: 1px solid gray;box-sizing: border-box;top: 0;bottom: 0;left: 50%;z-index: 0;}#sk-container-id-1 div.sk-serial {display: flex;flex-direction: column;align-items: center;background-color: white;padding-right: 0.2em;padding-left: 0.2em;position: relative;}#sk-container-id-1 div.sk-item {position: relative;z-index: 1;}#sk-container-id-1 div.sk-parallel {display: flex;align-items: stretch;justify-content: center;background-color: white;position: relative;}#sk-container-id-1 div.sk-item::before, #sk-container-id-1 div.sk-parallel-item::before {content: \"\";position: absolute;border-left: 1px solid gray;box-sizing: border-box;top: 0;bottom: 0;left: 50%;z-index: -1;}#sk-container-id-1 div.sk-parallel-item {display: flex;flex-direction: column;z-index: 1;position: relative;background-color: white;}#sk-container-id-1 div.sk-parallel-item:first-child::after {align-self: flex-end;width: 50%;}#sk-container-id-1 div.sk-parallel-item:last-child::after {align-self: flex-start;width: 50%;}#sk-container-id-1 div.sk-parallel-item:only-child::after {width: 0;}#sk-container-id-1 div.sk-dashed-wrapped {border: 1px dashed gray;margin: 0 0.4em 0.5em 0.4em;box-sizing: border-box;padding-bottom: 0.4em;background-color: white;}#sk-container-id-1 div.sk-label label {font-family: monospace;font-weight: bold;display: inline-block;line-height: 1.2em;}#sk-container-id-1 div.sk-label-container {text-align: center;}#sk-container-id-1 div.sk-container {/* jupyter's `normalize.less` sets `[hidden] { display: none; }` but bootstrap.min.css set `[hidden] { display: none !important; }` so we also need the `!important` here to be able to override the default hidden behavior on the sphinx rendered scikit-learn.org. See: https://github.com/scikit-learn/scikit-learn/issues/21755 */display: inline-block !important;position: relative;}#sk-container-id-1 div.sk-text-repr-fallback {display: none;}</style><div id=\"sk-container-id-1\" class=\"sk-top-container\"><div class=\"sk-text-repr-fallback\"><pre>LinearRegression()</pre><b>In a Jupyter environment, please rerun this cell to show the HTML representation or trust the notebook. <br />On GitHub, the HTML representation is unable to render, please try loading this page with nbviewer.org.</b></div><div class=\"sk-container\" hidden><div class=\"sk-item\"><div class=\"sk-estimator sk-toggleable\"><input class=\"sk-toggleable__control sk-hidden--visually\" id=\"sk-estimator-id-1\" type=\"checkbox\" checked><label for=\"sk-estimator-id-1\" class=\"sk-toggleable__label sk-toggleable__label-arrow\">LinearRegression</label><div class=\"sk-toggleable__content\"><pre>LinearRegression()</pre></div></div></div></div></div>"
            ]
          },
          "metadata": {},
          "execution_count": 39
        }
      ]
    },
    {
      "cell_type": "markdown",
      "source": [
        "**Prediction of test data**"
      ],
      "metadata": {
        "id": "E5X0fPSh-gV7"
      }
    },
    {
      "cell_type": "code",
      "source": [
        "y_pred=model.predict(x_test)\n",
        "print(y_pred)"
      ],
      "metadata": {
        "colab": {
          "base_uri": "https://localhost:8080/"
        },
        "id": "UaGnsjQB5vbH",
        "outputId": "1cc448d4-3665-4819-bb9b-8c3c6af4a7f1"
      },
      "execution_count": 41,
      "outputs": [
        {
          "output_type": "stream",
          "name": "stdout",
          "text": [
            "[264045.44845506 152815.25646296 101430.58937506 223782.06788494\n",
            "  97749.91887109  94760.42445202 256346.43569251 137823.40838091\n",
            " 511992.92009033 155069.00373626 188968.48793584 154277.58401943\n",
            " 249877.12764508 109875.33622831 132984.86707787 144012.36305149\n",
            " 237977.21960655  98098.99260349 133781.62895777 176230.6657763\n",
            " 123455.33695529 151849.26966992  81123.52244611 161133.0882535\n",
            " 193347.84873545 194290.5452331  151915.91904312  38705.30769552\n",
            " 313632.41204513 120835.60209135 160701.68272471 214103.69483808\n",
            " 156906.74628523 284082.26087271 288131.47038858 209067.29908943\n",
            " 269604.58109922 109054.52377444 224890.93739236 328971.05784376\n",
            " 218862.78132598 122489.543077   193983.87639354 294618.75409912\n",
            " 317039.74809801 127446.22864033 127160.14419485 113857.68695147\n",
            " 182842.31302946  89643.02980681 366075.74070183 145429.31435294\n",
            " 198093.44537983  66799.45963004 256612.06241918  88503.17790756\n",
            " 131654.14942809 252076.10724587 133297.10517673  87083.28170945\n",
            " 145635.59382772 123704.73359583 157996.18816678 157375.28156622\n",
            " 226636.90549034 170277.64464437 122240.33437545 210504.1590427\n",
            " 128999.71571981 209121.44687326 194045.39946798  94801.39233082\n",
            "  42868.53248103 264634.1831212   67031.97804831 253234.59892722\n",
            " 116545.23879588  81676.10942821 279852.20313723 164817.71793495\n",
            " 129402.4314623  135788.37933845 106056.48599677 148402.21249747\n",
            " 264239.8754844  205525.89096883  81037.43137283 200835.40699195\n",
            " 170728.62834935 140479.39836277 189756.14127668 193122.58968217\n",
            " 186923.07240401 239699.34598099 194994.21562933 167408.97891306\n",
            " 227365.02237088 168576.13820308  92813.67422017 154699.67768347\n",
            " 264235.0508079  191351.86495162 122831.72496999 165174.26245187\n",
            " 118275.79762959 268244.21330697 174426.84362024  95507.2956757\n",
            " 180826.56764716 124254.38467812  82856.2261151  103710.50547915\n",
            " 196811.38078822 105514.24198207 177604.10794833 167384.29628348\n",
            " 351587.97627549 118084.55124473 209060.76083043 263518.30860231\n",
            " 167495.22561124 171304.2131329  125628.13149698 214541.25924201\n",
            " 232741.4352629  238420.817505   313257.39216114 205126.13507053\n",
            " 203150.31882004 199029.39175546 223215.69808211 204691.40573511\n",
            " 145626.66299206 207642.419203    76045.75052386 229312.87815485\n",
            " 151643.91985053 189896.27991829  89241.04367893 178810.88326019\n",
            " 152271.63240513 122770.92397558 228122.4900474  149547.57544471\n",
            " 146376.14492995 178553.76366507 234458.92452738 135648.23537163\n",
            " 272133.45744563 247824.29339796 190000.02509781 321637.94914899\n",
            " 289013.96330981 163904.90360882 184246.3062051  318913.35124398\n",
            " 131368.79753475 193743.1209944  124184.86199163 176551.68422501\n",
            " 111473.46586146 149630.57853045 191242.65829498  94909.78829667\n",
            " 252420.79222702 120702.59101178 152821.03263453 261487.24100145\n",
            " 214140.60808773 186138.96064858 179572.59124144 175138.91924379\n",
            " 205418.87824686 194774.75479759 118136.69280567 109906.04407404\n",
            " 146808.62195817 270853.66016672 143141.25649062 147001.0737231\n",
            " 316832.40633119 198146.01655607 125360.95014086 281234.13272903\n",
            "  98373.59719511 187031.05921023 104241.33209474 214933.69545736\n",
            " 208736.01931726 147768.28393798 136950.58978019 179501.58650876\n",
            " 214812.5494052  127366.92730015 110033.02386589 161212.14916034\n",
            "  52348.18563108 135946.91879657 179703.28306311 131690.04325011\n",
            " 133138.6717766  207810.48854285 111694.76112462 114496.27664154\n",
            " 103818.08335455 216100.0604769  171366.25883968 314453.77560377\n",
            " 267933.62164762  30151.62747516 157819.30523257 246706.4927656\n",
            "  36491.39660467  84787.85751775 362533.41987472 221967.57035927\n",
            " 209101.54415083 266182.83915444 248735.83997928  55342.79986449\n",
            " 216831.09601056 169907.60067504 150825.27667912 112230.11951066\n",
            " 202914.08811769 267983.61942861 247209.05334451 223967.611517\n",
            " 140179.98461568 178228.37097374  36953.07446971 166270.212441\n",
            "  80488.40812127 137913.86693898 246111.09555283 120778.29121578\n",
            " 116840.36058742 110505.78585514  47487.43245441 201351.57256815\n",
            " 117310.61050863 200125.88376085 219419.34831832 220347.57616903\n",
            " 199424.20236962 164255.17275722 221161.29365278 195851.16482938\n",
            " 148074.20381654 212922.6583458  199714.14337381 266495.71576962\n",
            "  76744.68919499 368730.36827705 229988.73864864 243606.21436537\n",
            "  98617.91062508 252720.29564891 422899.55737334 789766.97525449\n",
            " 217400.52668286  94549.74630249 135744.46800442  39856.53821257\n",
            " 377722.42310659 303177.10455764 333460.35649663  53146.09311443\n",
            " 210106.40476028 257714.90146884 123135.7960473  232740.9894418\n",
            " 138958.35351415 198723.73313831 127208.74841692 241364.45515306\n",
            " 231976.40616102 182265.14856304 220639.22389118 112116.08335185\n",
            " 136800.32029732 333795.32019244 163724.55349355 144309.10444531\n",
            " 211075.9810244  191465.97884946 131058.67790425 285059.3284902\n",
            " 425421.83580156 189719.75600781  58341.69329724  92456.39234983\n",
            " 300167.50964698  99027.44053934 132085.2732238  288674.91591894\n",
            " 235459.93299003 198628.72024034 162199.47150244 174063.92636775\n",
            "  71072.00720777 138876.48367    199780.15071393 183837.62369216\n",
            " 158538.38489012 160122.60315535 145251.94020718 184406.69553595\n",
            " 198567.57831201 185837.29143626 103435.78973594 141663.82447477\n",
            " 185543.31558097 110203.17973104 127136.44036374 147973.82559191\n",
            " 304557.78642971 123658.80233969 195631.07390289 172696.53047221\n",
            " 108789.14311042 247979.05665817 123300.05389678 258144.26695762\n",
            " 121684.31577748 240983.08822073 120511.39582341 331056.71537677\n",
            " 228756.08880727 146422.19974974 108614.01055122 242622.87299179\n",
            " 166170.27214036 196043.65920645 199220.71558266 157696.64793002\n",
            " 119693.3894605  206656.87314836 161087.73074438 113829.45804556\n",
            " 325087.14301925 172839.02812142 165575.66447861 217695.02134711\n",
            " 183339.43376496 138678.87038081 113460.84816874  89483.89510711\n",
            "  85461.5651691  136878.80937097 218633.59867297 324877.11103683\n",
            " 109269.27732561  71894.33288874 172245.62526072 360451.20491383\n",
            " 285607.53832679 158002.52267935 267703.22806796 303862.5602254\n",
            " 322565.30230127 205140.19796747 236204.74069987 248636.39877263\n",
            "  71214.85182896]\n"
          ]
        }
      ]
    },
    {
      "cell_type": "code",
      "source": [],
      "metadata": {
        "id": "JyysZffq_QlI"
      },
      "execution_count": null,
      "outputs": []
    }
  ]
}