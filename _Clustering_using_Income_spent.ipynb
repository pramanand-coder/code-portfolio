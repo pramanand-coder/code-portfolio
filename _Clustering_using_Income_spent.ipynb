{
  "nbformat": 4,
  "nbformat_minor": 0,
  "metadata": {
    "colab": {
      "provenance": [],
      "authorship_tag": "ABX9TyPV0+wv+kjirGbcAVgd3HOn",
      "include_colab_link": true
    },
    "kernelspec": {
      "name": "python3",
      "display_name": "Python 3"
    },
    "language_info": {
      "name": "python"
    }
  },
  "cells": [
    {
      "cell_type": "markdown",
      "metadata": {
        "id": "view-in-github",
        "colab_type": "text"
      },
      "source": [
        "<a href=\"https://colab.research.google.com/github/pramanand-coder/code-portfolio/blob/master/_Clustering_using_Income_spent.ipynb\" target=\"_parent\"><img src=\"https://colab.research.google.com/assets/colab-badge.svg\" alt=\"Open In Colab\"/></a>"
      ]
    },
    {
      "cell_type": "code",
      "execution_count": 1,
      "metadata": {
        "id": "I3VF6bb3cu3X"
      },
      "outputs": [],
      "source": [
        "import numpy as np\n",
        "import pandas as pd\n",
        "import matplotlib.pyplot as plt"
      ]
    },
    {
      "cell_type": "code",
      "source": [
        "from google.colab import files\n",
        "u=files.upload()"
      ],
      "metadata": {
        "colab": {
          "base_uri": "https://localhost:8080/",
          "height": 73
        },
        "id": "aEk0j6u2c3YC",
        "outputId": "5c3c877d-05dd-4c4b-acbb-6a089134a6b8"
      },
      "execution_count": 2,
      "outputs": [
        {
          "output_type": "display_data",
          "data": {
            "text/plain": [
              "<IPython.core.display.HTML object>"
            ],
            "text/html": [
              "\n",
              "     <input type=\"file\" id=\"files-5f4377c9-0ab6-480c-9177-001cc3e9a60c\" name=\"files[]\" multiple disabled\n",
              "        style=\"border:none\" />\n",
              "     <output id=\"result-5f4377c9-0ab6-480c-9177-001cc3e9a60c\">\n",
              "      Upload widget is only available when the cell has been executed in the\n",
              "      current browser session. Please rerun this cell to enable.\n",
              "      </output>\n",
              "      <script>// Copyright 2017 Google LLC\n",
              "//\n",
              "// Licensed under the Apache License, Version 2.0 (the \"License\");\n",
              "// you may not use this file except in compliance with the License.\n",
              "// You may obtain a copy of the License at\n",
              "//\n",
              "//      http://www.apache.org/licenses/LICENSE-2.0\n",
              "//\n",
              "// Unless required by applicable law or agreed to in writing, software\n",
              "// distributed under the License is distributed on an \"AS IS\" BASIS,\n",
              "// WITHOUT WARRANTIES OR CONDITIONS OF ANY KIND, either express or implied.\n",
              "// See the License for the specific language governing permissions and\n",
              "// limitations under the License.\n",
              "\n",
              "/**\n",
              " * @fileoverview Helpers for google.colab Python module.\n",
              " */\n",
              "(function(scope) {\n",
              "function span(text, styleAttributes = {}) {\n",
              "  const element = document.createElement('span');\n",
              "  element.textContent = text;\n",
              "  for (const key of Object.keys(styleAttributes)) {\n",
              "    element.style[key] = styleAttributes[key];\n",
              "  }\n",
              "  return element;\n",
              "}\n",
              "\n",
              "// Max number of bytes which will be uploaded at a time.\n",
              "const MAX_PAYLOAD_SIZE = 100 * 1024;\n",
              "\n",
              "function _uploadFiles(inputId, outputId) {\n",
              "  const steps = uploadFilesStep(inputId, outputId);\n",
              "  const outputElement = document.getElementById(outputId);\n",
              "  // Cache steps on the outputElement to make it available for the next call\n",
              "  // to uploadFilesContinue from Python.\n",
              "  outputElement.steps = steps;\n",
              "\n",
              "  return _uploadFilesContinue(outputId);\n",
              "}\n",
              "\n",
              "// This is roughly an async generator (not supported in the browser yet),\n",
              "// where there are multiple asynchronous steps and the Python side is going\n",
              "// to poll for completion of each step.\n",
              "// This uses a Promise to block the python side on completion of each step,\n",
              "// then passes the result of the previous step as the input to the next step.\n",
              "function _uploadFilesContinue(outputId) {\n",
              "  const outputElement = document.getElementById(outputId);\n",
              "  const steps = outputElement.steps;\n",
              "\n",
              "  const next = steps.next(outputElement.lastPromiseValue);\n",
              "  return Promise.resolve(next.value.promise).then((value) => {\n",
              "    // Cache the last promise value to make it available to the next\n",
              "    // step of the generator.\n",
              "    outputElement.lastPromiseValue = value;\n",
              "    return next.value.response;\n",
              "  });\n",
              "}\n",
              "\n",
              "/**\n",
              " * Generator function which is called between each async step of the upload\n",
              " * process.\n",
              " * @param {string} inputId Element ID of the input file picker element.\n",
              " * @param {string} outputId Element ID of the output display.\n",
              " * @return {!Iterable<!Object>} Iterable of next steps.\n",
              " */\n",
              "function* uploadFilesStep(inputId, outputId) {\n",
              "  const inputElement = document.getElementById(inputId);\n",
              "  inputElement.disabled = false;\n",
              "\n",
              "  const outputElement = document.getElementById(outputId);\n",
              "  outputElement.innerHTML = '';\n",
              "\n",
              "  const pickedPromise = new Promise((resolve) => {\n",
              "    inputElement.addEventListener('change', (e) => {\n",
              "      resolve(e.target.files);\n",
              "    });\n",
              "  });\n",
              "\n",
              "  const cancel = document.createElement('button');\n",
              "  inputElement.parentElement.appendChild(cancel);\n",
              "  cancel.textContent = 'Cancel upload';\n",
              "  const cancelPromise = new Promise((resolve) => {\n",
              "    cancel.onclick = () => {\n",
              "      resolve(null);\n",
              "    };\n",
              "  });\n",
              "\n",
              "  // Wait for the user to pick the files.\n",
              "  const files = yield {\n",
              "    promise: Promise.race([pickedPromise, cancelPromise]),\n",
              "    response: {\n",
              "      action: 'starting',\n",
              "    }\n",
              "  };\n",
              "\n",
              "  cancel.remove();\n",
              "\n",
              "  // Disable the input element since further picks are not allowed.\n",
              "  inputElement.disabled = true;\n",
              "\n",
              "  if (!files) {\n",
              "    return {\n",
              "      response: {\n",
              "        action: 'complete',\n",
              "      }\n",
              "    };\n",
              "  }\n",
              "\n",
              "  for (const file of files) {\n",
              "    const li = document.createElement('li');\n",
              "    li.append(span(file.name, {fontWeight: 'bold'}));\n",
              "    li.append(span(\n",
              "        `(${file.type || 'n/a'}) - ${file.size} bytes, ` +\n",
              "        `last modified: ${\n",
              "            file.lastModifiedDate ? file.lastModifiedDate.toLocaleDateString() :\n",
              "                                    'n/a'} - `));\n",
              "    const percent = span('0% done');\n",
              "    li.appendChild(percent);\n",
              "\n",
              "    outputElement.appendChild(li);\n",
              "\n",
              "    const fileDataPromise = new Promise((resolve) => {\n",
              "      const reader = new FileReader();\n",
              "      reader.onload = (e) => {\n",
              "        resolve(e.target.result);\n",
              "      };\n",
              "      reader.readAsArrayBuffer(file);\n",
              "    });\n",
              "    // Wait for the data to be ready.\n",
              "    let fileData = yield {\n",
              "      promise: fileDataPromise,\n",
              "      response: {\n",
              "        action: 'continue',\n",
              "      }\n",
              "    };\n",
              "\n",
              "    // Use a chunked sending to avoid message size limits. See b/62115660.\n",
              "    let position = 0;\n",
              "    do {\n",
              "      const length = Math.min(fileData.byteLength - position, MAX_PAYLOAD_SIZE);\n",
              "      const chunk = new Uint8Array(fileData, position, length);\n",
              "      position += length;\n",
              "\n",
              "      const base64 = btoa(String.fromCharCode.apply(null, chunk));\n",
              "      yield {\n",
              "        response: {\n",
              "          action: 'append',\n",
              "          file: file.name,\n",
              "          data: base64,\n",
              "        },\n",
              "      };\n",
              "\n",
              "      let percentDone = fileData.byteLength === 0 ?\n",
              "          100 :\n",
              "          Math.round((position / fileData.byteLength) * 100);\n",
              "      percent.textContent = `${percentDone}% done`;\n",
              "\n",
              "    } while (position < fileData.byteLength);\n",
              "  }\n",
              "\n",
              "  // All done.\n",
              "  yield {\n",
              "    response: {\n",
              "      action: 'complete',\n",
              "    }\n",
              "  };\n",
              "}\n",
              "\n",
              "scope.google = scope.google || {};\n",
              "scope.google.colab = scope.google.colab || {};\n",
              "scope.google.colab._files = {\n",
              "  _uploadFiles,\n",
              "  _uploadFilesContinue,\n",
              "};\n",
              "})(self);\n",
              "</script> "
            ]
          },
          "metadata": {}
        },
        {
          "output_type": "stream",
          "name": "stdout",
          "text": [
            "Saving dataset.csv to dataset (1).csv\n"
          ]
        }
      ]
    },
    {
      "cell_type": "code",
      "source": [
        "dataset=pd.read_csv(\"dataset.csv\")"
      ],
      "metadata": {
        "id": "CPOLFtitdE3O"
      },
      "execution_count": 3,
      "outputs": []
    },
    {
      "cell_type": "markdown",
      "source": [
        "**Summarizing the dataset**"
      ],
      "metadata": {
        "id": "i8CV7JfjdTJj"
      }
    },
    {
      "cell_type": "code",
      "source": [
        "print(dataset.shape)\n",
        "print(dataset.head())"
      ],
      "metadata": {
        "colab": {
          "base_uri": "https://localhost:8080/"
        },
        "id": "roIkAjEkdSCt",
        "outputId": "28dc1b67-b56f-4094-894e-9ca1ac0bbee0"
      },
      "execution_count": 4,
      "outputs": [
        {
          "output_type": "stream",
          "name": "stdout",
          "text": [
            "(303, 2)\n",
            "   INCOME  SPEND\n",
            "0     233    150\n",
            "1     250    187\n",
            "2     204    172\n",
            "3     236    178\n",
            "4     354    163\n"
          ]
        }
      ]
    },
    {
      "cell_type": "code",
      "source": [
        "print(dataset.describe())"
      ],
      "metadata": {
        "colab": {
          "base_uri": "https://localhost:8080/"
        },
        "id": "8PQpqXOfdcKm",
        "outputId": "d6b1c53d-dd8f-4310-86cd-936723887c86"
      },
      "execution_count": 5,
      "outputs": [
        {
          "output_type": "stream",
          "name": "stdout",
          "text": [
            "           INCOME       SPEND\n",
            "count  303.000000  303.000000\n",
            "mean   245.273927  149.646865\n",
            "std     48.499412   22.905161\n",
            "min    126.000000   71.000000\n",
            "25%    211.000000  133.500000\n",
            "50%    240.000000  153.000000\n",
            "75%    274.000000  166.000000\n",
            "max    417.000000  202.000000\n"
          ]
        }
      ]
    },
    {
      "cell_type": "markdown",
      "source": [
        "**Segregating and Zipping the dataset**"
      ],
      "metadata": {
        "id": "s37Lm71OdmIY"
      }
    },
    {
      "cell_type": "code",
      "source": [
        "income=dataset[\"INCOME\"].values\n",
        "spend=dataset[\"SPEND\"].values\n",
        "x=np.array(list(zip(income,spend)))"
      ],
      "metadata": {
        "id": "BhDkugvBdhxo"
      },
      "execution_count": 6,
      "outputs": []
    },
    {
      "cell_type": "code",
      "source": [
        "print(x)"
      ],
      "metadata": {
        "colab": {
          "base_uri": "https://localhost:8080/"
        },
        "id": "NwQuSbeud__6",
        "outputId": "624e640f-f015-48e9-96eb-dda37ddbddf2"
      },
      "execution_count": 7,
      "outputs": [
        {
          "output_type": "stream",
          "name": "stdout",
          "text": [
            "[[233 150]\n",
            " [250 187]\n",
            " [204 172]\n",
            " [236 178]\n",
            " [354 163]\n",
            " [192 148]\n",
            " [294 153]\n",
            " [263 173]\n",
            " [199 162]\n",
            " [168 174]\n",
            " [239 160]\n",
            " [275 139]\n",
            " [266 171]\n",
            " [211 144]\n",
            " [283 162]\n",
            " [219 158]\n",
            " [340 172]\n",
            " [226 114]\n",
            " [247 171]\n",
            " [239 151]\n",
            " [234 161]\n",
            " [233 179]\n",
            " [226 178]\n",
            " [243 137]\n",
            " [199 178]\n",
            " [302 162]\n",
            " [212 157]\n",
            " [175 123]\n",
            " [417 157]\n",
            " [197 152]\n",
            " [198 168]\n",
            " [177 140]\n",
            " [219 188]\n",
            " [273 152]\n",
            " [213 125]\n",
            " [177 160]\n",
            " [304 170]\n",
            " [232 165]\n",
            " [269 148]\n",
            " [360 151]\n",
            " [308 142]\n",
            " [245 180]\n",
            " [208 148]\n",
            " [264 143]\n",
            " [321 182]\n",
            " [325 172]\n",
            " [235 180]\n",
            " [257 156]\n",
            " [216 115]\n",
            " [234 160]\n",
            " [256 149]\n",
            " [302 151]\n",
            " [231 146]\n",
            " [141 175]\n",
            " [252 172]\n",
            " [201 158]\n",
            " [222 186]\n",
            " [260 185]\n",
            " [182 174]\n",
            " [303 159]\n",
            " [265 130]\n",
            " [309 156]\n",
            " [186 190]\n",
            " [203 132]\n",
            " [211 165]\n",
            " [183 182]\n",
            " [222 143]\n",
            " [234 175]\n",
            " [220 170]\n",
            " [209 163]\n",
            " [258 147]\n",
            " [227 154]\n",
            " [204 202]\n",
            " [261 186]\n",
            " [213 165]\n",
            " [250 161]\n",
            " [245 166]\n",
            " [221 164]\n",
            " [205 184]\n",
            " [240 154]\n",
            " [250 179]\n",
            " [308 170]\n",
            " [318 160]\n",
            " [298 178]\n",
            " [265 122]\n",
            " [264 160]\n",
            " [277 151]\n",
            " [197 156]\n",
            " [214 158]\n",
            " [248 122]\n",
            " [255 175]\n",
            " [207 168]\n",
            " [223 169]\n",
            " [288 159]\n",
            " [160 138]\n",
            " [226 111]\n",
            " [394 157]\n",
            " [233 147]\n",
            " [315 162]\n",
            " [246 173]\n",
            " [244 178]\n",
            " [270 145]\n",
            " [195 179]\n",
            " [240 194]\n",
            " [196 163]\n",
            " [211 115]\n",
            " [234 131]\n",
            " [236 152]\n",
            " [244 162]\n",
            " [254 159]\n",
            " [325 154]\n",
            " [126 173]\n",
            " [313 133]\n",
            " [211 161]\n",
            " [262 155]\n",
            " [215 170]\n",
            " [214 168]\n",
            " [193 162]\n",
            " [204 172]\n",
            " [243 152]\n",
            " [303 122]\n",
            " [271 182]\n",
            " [268 172]\n",
            " [267 167]\n",
            " [199 179]\n",
            " [210 192]\n",
            " [204 143]\n",
            " [277 172]\n",
            " [196 169]\n",
            " [269 121]\n",
            " [201 163]\n",
            " [271 162]\n",
            " [295 162]\n",
            " [235 153]\n",
            " [306 163]\n",
            " [269 163]\n",
            " [178  96]\n",
            " [208 140]\n",
            " [201 126]\n",
            " [263 105]\n",
            " [295 157]\n",
            " [303 181]\n",
            " [209 173]\n",
            " [223 142]\n",
            " [197 116]\n",
            " [245 143]\n",
            " [242 149]\n",
            " [240 171]\n",
            " [226 169]\n",
            " [180 150]\n",
            " [228 138]\n",
            " [149 125]\n",
            " [227 155]\n",
            " [278 152]\n",
            " [220 152]\n",
            " [197 131]\n",
            " [253 179]\n",
            " [192 174]\n",
            " [220 144]\n",
            " [221 163]\n",
            " [240 169]\n",
            " [342 166]\n",
            " [157 182]\n",
            " [175 173]\n",
            " [175 173]\n",
            " [286 108]\n",
            " [229 129]\n",
            " [268 160]\n",
            " [254 147]\n",
            " [203 155]\n",
            " [256 142]\n",
            " [229 168]\n",
            " [284 160]\n",
            " [224 173]\n",
            " [206 132]\n",
            " [167 114]\n",
            " [230 160]\n",
            " [335 158]\n",
            " [177 120]\n",
            " [276 112]\n",
            " [353 132]\n",
            " [225 114]\n",
            " [330 169]\n",
            " [230 165]\n",
            " [243 128]\n",
            " [290 153]\n",
            " [253 144]\n",
            " [266 109]\n",
            " [233 163]\n",
            " [172 158]\n",
            " [305 142]\n",
            " [216 131]\n",
            " [188 113]\n",
            " [282 142]\n",
            " [185 155]\n",
            " [326 140]\n",
            " [231 147]\n",
            " [254 163]\n",
            " [267  99]\n",
            " [248 158]\n",
            " [197 177]\n",
            " [258 141]\n",
            " [270 111]\n",
            " [274 150]\n",
            " [164 145]\n",
            " [255 161]\n",
            " [239 142]\n",
            " [258 157]\n",
            " [188 139]\n",
            " [177 162]\n",
            " [229 150]\n",
            " [260 140]\n",
            " [219 140]\n",
            " [307 146]\n",
            " [249 144]\n",
            " [341 136]\n",
            " [263  97]\n",
            " [330 132]\n",
            " [254 127]\n",
            " [256 150]\n",
            " [407 154]\n",
            " [217 111]\n",
            " [282 174]\n",
            " [288 133]\n",
            " [239 126]\n",
            " [174 125]\n",
            " [281 103]\n",
            " [198 130]\n",
            " [288 159]\n",
            " [309 131]\n",
            " [243 152]\n",
            " [289 124]\n",
            " [289 145]\n",
            " [246  96]\n",
            " [322 109]\n",
            " [299 173]\n",
            " [300 171]\n",
            " [293 170]\n",
            " [304 162]\n",
            " [282 156]\n",
            " [269 112]\n",
            " [249 143]\n",
            " [212 132]\n",
            " [274  88]\n",
            " [184 105]\n",
            " [274 166]\n",
            " [409 150]\n",
            " [246 120]\n",
            " [283 195]\n",
            " [254 146]\n",
            " [298 122]\n",
            " [247 143]\n",
            " [294 106]\n",
            " [299 125]\n",
            " [273 125]\n",
            " [309 147]\n",
            " [259 130]\n",
            " [200 126]\n",
            " [244 154]\n",
            " [231 182]\n",
            " [228 165]\n",
            " [230 160]\n",
            " [282  95]\n",
            " [269 169]\n",
            " [206 108]\n",
            " [212 132]\n",
            " [327 117]\n",
            " [149 126]\n",
            " [286 116]\n",
            " [283 103]\n",
            " [249 144]\n",
            " [234 145]\n",
            " [237  71]\n",
            " [234 156]\n",
            " [275 118]\n",
            " [212 168]\n",
            " [218 105]\n",
            " [261 141]\n",
            " [319 152]\n",
            " [166 125]\n",
            " [315 125]\n",
            " [204 156]\n",
            " [218 134]\n",
            " [223 181]\n",
            " [207 138]\n",
            " [311 120]\n",
            " [204 162]\n",
            " [232 164]\n",
            " [335 143]\n",
            " [205 130]\n",
            " [203 161]\n",
            " [318 140]\n",
            " [225 146]\n",
            " [212 150]\n",
            " [169 144]\n",
            " [187 144]\n",
            " [197 136]\n",
            " [176  90]\n",
            " [241 123]\n",
            " [264 132]\n",
            " [193 141]\n",
            " [131 115]\n",
            " [236 174]]\n"
          ]
        }
      ]
    },
    {
      "cell_type": "markdown",
      "source": [
        "**Finding the best K value**"
      ],
      "metadata": {
        "id": "kkkRGqHdea2D"
      }
    },
    {
      "cell_type": "code",
      "source": [
        "from sklearn.cluster import KMeans\n",
        "wcss=[]\n",
        "for i in range(1,11):\n",
        "  km=KMeans(n_clusters=i,random_state=0)\n",
        "  km.fit(x)\n",
        "  wcss.append(km.inertia_)\n",
        "plt.plot(range(1,11),wcss,color=\"red\",marker=\"8\")\n",
        "plt.title(\"Optimal K value\")\n",
        "plt.xlabel(\"Number of cluster\")\n",
        "plt.ylabel(\"WCSS\")"
      ],
      "metadata": {
        "colab": {
          "base_uri": "https://localhost:8080/",
          "height": 679
        },
        "id": "-KvNn9FgeBiE",
        "outputId": "4e2bd2c9-c3ae-4110-d310-276edc1ec262"
      },
      "execution_count": 8,
      "outputs": [
        {
          "output_type": "stream",
          "name": "stderr",
          "text": [
            "/usr/local/lib/python3.9/dist-packages/sklearn/cluster/_kmeans.py:870: FutureWarning: The default value of `n_init` will change from 10 to 'auto' in 1.4. Set the value of `n_init` explicitly to suppress the warning\n",
            "  warnings.warn(\n",
            "/usr/local/lib/python3.9/dist-packages/sklearn/cluster/_kmeans.py:870: FutureWarning: The default value of `n_init` will change from 10 to 'auto' in 1.4. Set the value of `n_init` explicitly to suppress the warning\n",
            "  warnings.warn(\n",
            "/usr/local/lib/python3.9/dist-packages/sklearn/cluster/_kmeans.py:870: FutureWarning: The default value of `n_init` will change from 10 to 'auto' in 1.4. Set the value of `n_init` explicitly to suppress the warning\n",
            "  warnings.warn(\n",
            "/usr/local/lib/python3.9/dist-packages/sklearn/cluster/_kmeans.py:870: FutureWarning: The default value of `n_init` will change from 10 to 'auto' in 1.4. Set the value of `n_init` explicitly to suppress the warning\n",
            "  warnings.warn(\n",
            "/usr/local/lib/python3.9/dist-packages/sklearn/cluster/_kmeans.py:870: FutureWarning: The default value of `n_init` will change from 10 to 'auto' in 1.4. Set the value of `n_init` explicitly to suppress the warning\n",
            "  warnings.warn(\n",
            "/usr/local/lib/python3.9/dist-packages/sklearn/cluster/_kmeans.py:870: FutureWarning: The default value of `n_init` will change from 10 to 'auto' in 1.4. Set the value of `n_init` explicitly to suppress the warning\n",
            "  warnings.warn(\n",
            "/usr/local/lib/python3.9/dist-packages/sklearn/cluster/_kmeans.py:870: FutureWarning: The default value of `n_init` will change from 10 to 'auto' in 1.4. Set the value of `n_init` explicitly to suppress the warning\n",
            "  warnings.warn(\n",
            "/usr/local/lib/python3.9/dist-packages/sklearn/cluster/_kmeans.py:870: FutureWarning: The default value of `n_init` will change from 10 to 'auto' in 1.4. Set the value of `n_init` explicitly to suppress the warning\n",
            "  warnings.warn(\n",
            "/usr/local/lib/python3.9/dist-packages/sklearn/cluster/_kmeans.py:870: FutureWarning: The default value of `n_init` will change from 10 to 'auto' in 1.4. Set the value of `n_init` explicitly to suppress the warning\n",
            "  warnings.warn(\n",
            "/usr/local/lib/python3.9/dist-packages/sklearn/cluster/_kmeans.py:870: FutureWarning: The default value of `n_init` will change from 10 to 'auto' in 1.4. Set the value of `n_init` explicitly to suppress the warning\n",
            "  warnings.warn(\n"
          ]
        },
        {
          "output_type": "execute_result",
          "data": {
            "text/plain": [
              "Text(0, 0.5, 'WCSS')"
            ]
          },
          "metadata": {},
          "execution_count": 8
        },
        {
          "output_type": "display_data",
          "data": {
            "text/plain": [
              "<Figure size 432x288 with 1 Axes>"
            ],
            "image/png": "[encoded data removed]"
          },
          "metadata": {
            "needs_background": "light"
          }
        }
      ]
    },
    {
      "cell_type": "markdown",
      "source": [
        "Fitting the kmeans to the dataset with k=6"
      ],
      "metadata": {
        "id": "oVQbAVv_gJi9"
      }
    },
    {
      "cell_type": "code",
      "source": [
        "from sklearn.cluster import KMeans\n",
        "model=KMeans(n_clusters=6,random_state=0)\n",
        "y_means=model.fit_predict(x)\n",
        "print(y_means)"
      ],
      "metadata": {
        "colab": {
          "base_uri": "https://localhost:8080/"
        },
        "id": "QtsjU6LQf7TJ",
        "outputId": "0b2d31a1-3024-457b-9efa-a3d296e4d7ab"
      },
      "execution_count": 9,
      "outputs": [
        {
          "output_type": "stream",
          "name": "stderr",
          "text": [
            "/usr/local/lib/python3.9/dist-packages/sklearn/cluster/_kmeans.py:870: FutureWarning: The default value of `n_init` will change from 10 to 'auto' in 1.4. Set the value of `n_init` explicitly to suppress the warning\n",
            "  warnings.warn(\n"
          ]
        },
        {
          "output_type": "stream",
          "name": "stdout",
          "text": [
            "[4 4 3 4 5 3 2 4 3 3 4 0 4 1 2 4 5 1 4 4 4 4 4 4 3 2 3 1 5 3 3 1 3 2 1 3 2\n",
            " 4 4 5 2 4 3 0 2 2 4 4 1 4 4 2 4 3 4 3 4 4 3 2 0 2 3 1 3 3 4 4 4 3 4 4 3 4\n",
            " 3 4 4 4 3 4 4 2 2 2 0 4 2 3 3 0 4 3 4 2 1 1 5 4 2 4 4 0 3 4 3 1 4 4 4 4 2\n",
            " 3 2 3 4 3 3 3 3 4 2 4 4 4 3 3 1 2 3 0 3 4 2 4 2 4 1 1 1 0 2 2 3 4 1 4 4 4\n",
            " 4 3 4 1 4 2 4 1 4 3 4 4 4 5 3 3 3 0 4 4 4 3 4 4 2 4 1 1 4 5 1 0 5 1 2 4 0\n",
            " 2 4 0 4 3 2 1 1 2 3 2 4 4 0 4 3 0 0 2 1 4 4 4 1 3 4 0 1 2 4 5 0 2 0 4 5 1\n",
            " 2 2 0 1 0 1 2 2 4 0 2 0 2 2 2 2 2 2 0 4 1 0 1 2 5 0 2 4 2 4 0 2 0 2 0 1 4\n",
            " 4 4 4 0 4 1 1 2 1 0 0 4 4 0 4 0 3 1 0 2 1 2 3 1 4 1 2 3 4 5 1 3 2 4 3 1 1\n",
            " 1 1 0 0 1 1 4]\n"
          ]
        }
      ]
    },
    {
      "cell_type": "markdown",
      "source": [
        "**Visualizing the dataset for k=6**"
      ],
      "metadata": {
        "id": "NXpRlBTDhbJL"
      }
    },
    {
      "cell_type": "code",
      "source": [
        "plt.scatter(x[y_means==0,0],x[y_means==0,1],s=50,c=\"blue\",label=1)\n",
        "plt.scatter(x[y_means==1,0],x[y_means==1,1],s=50,c=\"purple\",label=2)\n",
        "plt.scatter(x[y_means==2,0],x[y_means==2,1],s=50,c=\"green\",label=3)\n",
        "plt.scatter(x[y_means==3,0],x[y_means==3,1],s=50,c=\"cyan\",label=4)\n",
        "plt.scatter(x[y_means==4,0],x[y_means==4,1],s=50,c=\"yellow\",label=4)\n",
        "plt.scatter(x[y_means==5,0],x[y_means==5,1],s=50,c=\"pink\",label=4)\n",
        "plt.scatter(model.cluster_centers_[:,0],model.cluster_centers_[:,1],marker=\"s\",label=\"Centroids\",s=100,c=\"red\")\n",
        "plt.title(\"Income Spent Analysis\")\n",
        "plt.xlabel(\"Income\")\n",
        "plt.ylabel(\"Spend\")\n",
        "plt.legend()\n",
        "plt.show()"
      ],
      "metadata": {
        "colab": {
          "base_uri": "https://localhost:8080/",
          "height": 295
        },
        "id": "cKwjOtibhBC_",
        "outputId": "daf6d8b2-d996-41e3-e8ca-937a9b5fd156"
      },
      "execution_count": 10,
      "outputs": [
        {
          "output_type": "display_data",
          "data": {
            "text/plain": [
              "<Figure size 432x288 with 1 Axes>"
            ],
            "image/png": "[encoded data removed]"
          },
          "metadata": {
            "needs_background": "light"
          }
        }
      ]
    }
  ]
}