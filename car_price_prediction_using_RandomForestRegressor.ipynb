{
  "nbformat": 4,
  "nbformat_minor": 0,
  "metadata": {
    "colab": {
      "provenance": [],
      "authorship_tag": "ABX9TyMMG1XpMYUn2v37GtY2N53G",
      "include_colab_link": true
    },
    "kernelspec": {
      "name": "python3",
      "display_name": "Python 3"
    },
    "language_info": {
      "name": "python"
    }
  },
  "cells": [
    {
      "cell_type": "markdown",
      "metadata": {
        "id": "view-in-github",
        "colab_type": "text"
      },
      "source": [
        "<a href=\"https://colab.research.google.com/github/pramanand-coder/code-portfolio/blob/master/car_price_prediction_using_RandomForestRegressor.ipynb\" target=\"_parent\"><img src=\"https://colab.research.google.com/assets/colab-badge.svg\" alt=\"Open In Colab\"/></a>"
      ]
    },
    {
      "cell_type": "code",
      "execution_count": 1,
      "metadata": {
        "id": "sUD9HIUQ36xB"
      },
      "outputs": [],
      "source": [
        "import pandas as pd"
      ]
    },
    {
      "cell_type": "code",
      "source": [
        "from google.colab import files\n",
        "u=files.upload()"
      ],
      "metadata": {
        "colab": {
          "base_uri": "https://localhost:8080/",
          "height": 73
        },
        "id": "I5g3pcqu3_sG",
        "outputId": "d4270f41-0e11-4ac2-ef93-b904244a2580"
      },
      "execution_count": 2,
      "outputs": [
        {
          "output_type": "display_data",
          "data": {
            "text/plain": [
              "<IPython.core.display.HTML object>"
            ],
            "text/html": [
              "\n",
              "     <input type=\"file\" id=\"files-6ee8bfab-0781-4a8b-ba8d-8f396944b71a\" name=\"files[]\" multiple disabled\n",
              "        style=\"border:none\" />\n",
              "     <output id=\"result-6ee8bfab-0781-4a8b-ba8d-8f396944b71a\">\n",
              "      Upload widget is only available when the cell has been executed in the\n",
              "      current browser session. Please rerun this cell to enable.\n",
              "      </output>\n",
              "      <script>// Copyright 2017 Google LLC\n",
              "//\n",
              "// Licensed under the Apache License, Version 2.0 (the \"License\");\n",
              "// you may not use this file except in compliance with the License.\n",
              "// You may obtain a copy of the License at\n",
              "//\n",
              "//      http://www.apache.org/licenses/LICENSE-2.0\n",
              "//\n",
              "// Unless required by applicable law or agreed to in writing, software\n",
              "// distributed under the License is distributed on an \"AS IS\" BASIS,\n",
              "// WITHOUT WARRANTIES OR CONDITIONS OF ANY KIND, either express or implied.\n",
              "// See the License for the specific language governing permissions and\n",
              "// limitations under the License.\n",
              "\n",
              "/**\n",
              " * @fileoverview Helpers for google.colab Python module.\n",
              " */\n",
              "(function(scope) {\n",
              "function span(text, styleAttributes = {}) {\n",
              "  const element = document.createElement('span');\n",
              "  element.textContent = text;\n",
              "  for (const key of Object.keys(styleAttributes)) {\n",
              "    element.style[key] = styleAttributes[key];\n",
              "  }\n",
              "  return element;\n",
              "}\n",
              "\n",
              "// Max number of bytes which will be uploaded at a time.\n",
              "const MAX_PAYLOAD_SIZE = 100 * 1024;\n",
              "\n",
              "function _uploadFiles(inputId, outputId) {\n",
              "  const steps = uploadFilesStep(inputId, outputId);\n",
              "  const outputElement = document.getElementById(outputId);\n",
              "  // Cache steps on the outputElement to make it available for the next call\n",
              "  // to uploadFilesContinue from Python.\n",
              "  outputElement.steps = steps;\n",
              "\n",
              "  return _uploadFilesContinue(outputId);\n",
              "}\n",
              "\n",
              "// This is roughly an async generator (not supported in the browser yet),\n",
              "// where there are multiple asynchronous steps and the Python side is going\n",
              "// to poll for completion of each step.\n",
              "// This uses a Promise to block the python side on completion of each step,\n",
              "// then passes the result of the previous step as the input to the next step.\n",
              "function _uploadFilesContinue(outputId) {\n",
              "  const outputElement = document.getElementById(outputId);\n",
              "  const steps = outputElement.steps;\n",
              "\n",
              "  const next = steps.next(outputElement.lastPromiseValue);\n",
              "  return Promise.resolve(next.value.promise).then((value) => {\n",
              "    // Cache the last promise value to make it available to the next\n",
              "    // step of the generator.\n",
              "    outputElement.lastPromiseValue = value;\n",
              "    return next.value.response;\n",
              "  });\n",
              "}\n",
              "\n",
              "/**\n",
              " * Generator function which is called between each async step of the upload\n",
              " * process.\n",
              " * @param {string} inputId Element ID of the input file picker element.\n",
              " * @param {string} outputId Element ID of the output display.\n",
              " * @return {!Iterable<!Object>} Iterable of next steps.\n",
              " */\n",
              "function* uploadFilesStep(inputId, outputId) {\n",
              "  const inputElement = document.getElementById(inputId);\n",
              "  inputElement.disabled = false;\n",
              "\n",
              "  const outputElement = document.getElementById(outputId);\n",
              "  outputElement.innerHTML = '';\n",
              "\n",
              "  const pickedPromise = new Promise((resolve) => {\n",
              "    inputElement.addEventListener('change', (e) => {\n",
              "      resolve(e.target.files);\n",
              "    });\n",
              "  });\n",
              "\n",
              "  const cancel = document.createElement('button');\n",
              "  inputElement.parentElement.appendChild(cancel);\n",
              "  cancel.textContent = 'Cancel upload';\n",
              "  const cancelPromise = new Promise((resolve) => {\n",
              "    cancel.onclick = () => {\n",
              "      resolve(null);\n",
              "    };\n",
              "  });\n",
              "\n",
              "  // Wait for the user to pick the files.\n",
              "  const files = yield {\n",
              "    promise: Promise.race([pickedPromise, cancelPromise]),\n",
              "    response: {\n",
              "      action: 'starting',\n",
              "    }\n",
              "  };\n",
              "\n",
              "  cancel.remove();\n",
              "\n",
              "  // Disable the input element since further picks are not allowed.\n",
              "  inputElement.disabled = true;\n",
              "\n",
              "  if (!files) {\n",
              "    return {\n",
              "      response: {\n",
              "        action: 'complete',\n",
              "      }\n",
              "    };\n",
              "  }\n",
              "\n",
              "  for (const file of files) {\n",
              "    const li = document.createElement('li');\n",
              "    li.append(span(file.name, {fontWeight: 'bold'}));\n",
              "    li.append(span(\n",
              "        `(${file.type || 'n/a'}) - ${file.size} bytes, ` +\n",
              "        `last modified: ${\n",
              "            file.lastModifiedDate ? file.lastModifiedDate.toLocaleDateString() :\n",
              "                                    'n/a'} - `));\n",
              "    const percent = span('0% done');\n",
              "    li.appendChild(percent);\n",
              "\n",
              "    outputElement.appendChild(li);\n",
              "\n",
              "    const fileDataPromise = new Promise((resolve) => {\n",
              "      const reader = new FileReader();\n",
              "      reader.onload = (e) => {\n",
              "        resolve(e.target.result);\n",
              "      };\n",
              "      reader.readAsArrayBuffer(file);\n",
              "    });\n",
              "    // Wait for the data to be ready.\n",
              "    let fileData = yield {\n",
              "      promise: fileDataPromise,\n",
              "      response: {\n",
              "        action: 'continue',\n",
              "      }\n",
              "    };\n",
              "\n",
              "    // Use a chunked sending to avoid message size limits. See b/62115660.\n",
              "    let position = 0;\n",
              "    do {\n",
              "      const length = Math.min(fileData.byteLength - position, MAX_PAYLOAD_SIZE);\n",
              "      const chunk = new Uint8Array(fileData, position, length);\n",
              "      position += length;\n",
              "\n",
              "      const base64 = btoa(String.fromCharCode.apply(null, chunk));\n",
              "      yield {\n",
              "        response: {\n",
              "          action: 'append',\n",
              "          file: file.name,\n",
              "          data: base64,\n",
              "        },\n",
              "      };\n",
              "\n",
              "      let percentDone = fileData.byteLength === 0 ?\n",
              "          100 :\n",
              "          Math.round((position / fileData.byteLength) * 100);\n",
              "      percent.textContent = `${percentDone}% done`;\n",
              "\n",
              "    } while (position < fileData.byteLength);\n",
              "  }\n",
              "\n",
              "  // All done.\n",
              "  yield {\n",
              "    response: {\n",
              "      action: 'complete',\n",
              "    }\n",
              "  };\n",
              "}\n",
              "\n",
              "scope.google = scope.google || {};\n",
              "scope.google.colab = scope.google.colab || {};\n",
              "scope.google.colab._files = {\n",
              "  _uploadFiles,\n",
              "  _uploadFilesContinue,\n",
              "};\n",
              "})(self);\n",
              "</script> "
            ]
          },
          "metadata": {}
        },
        {
          "output_type": "stream",
          "name": "stdout",
          "text": [
            "Saving dataset.csv to dataset (2).csv\n"
          ]
        }
      ]
    },
    {
      "cell_type": "code",
      "source": [
        "dataset=pd.read_csv(\"dataset.csv\")"
      ],
      "metadata": {
        "id": "P4GzTeIz4FBt"
      },
      "execution_count": 3,
      "outputs": []
    },
    {
      "cell_type": "markdown",
      "source": [
        "**Summarizing the dataset**"
      ],
      "metadata": {
        "id": "Jc-1HoOg4OmK"
      }
    },
    {
      "cell_type": "code",
      "source": [
        "print(dataset.shape)\n",
        "print(dataset.head())"
      ],
      "metadata": {
        "colab": {
          "base_uri": "https://localhost:8080/"
        },
        "id": "Rc2c08mG4NgZ",
        "outputId": "2fa0c722-d4ef-4913-bf3d-579eda0ded3b"
      },
      "execution_count": 4,
      "outputs": [
        {
          "output_type": "stream",
          "name": "stdout",
          "text": [
            "(205, 26)\n",
            "   car_ID  symboling                   CarName fueltype aspiration doornumber  \\\n",
            "0       1          3        alfa-romero giulia      gas        std        two   \n",
            "1       2          3       alfa-romero stelvio      gas        std        two   \n",
            "2       3          1  alfa-romero Quadrifoglio      gas        std        two   \n",
            "3       4          2               audi 100 ls      gas        std       four   \n",
            "4       5          2                audi 100ls      gas        std       four   \n",
            "\n",
            "       carbody drivewheel enginelocation  wheelbase  ...  enginesize  \\\n",
            "0  convertible        rwd          front       88.6  ...         130   \n",
            "1  convertible        rwd          front       88.6  ...         130   \n",
            "2    hatchback        rwd          front       94.5  ...         152   \n",
            "3        sedan        fwd          front       99.8  ...         109   \n",
            "4        sedan        4wd          front       99.4  ...         136   \n",
            "\n",
            "   fuelsystem  boreratio  stroke compressionratio horsepower  peakrpm citympg  \\\n",
            "0        mpfi       3.47    2.68              9.0        111     5000      21   \n",
            "1        mpfi       3.47    2.68              9.0        111     5000      21   \n",
            "2        mpfi       2.68    3.47              9.0        154     5000      19   \n",
            "3        mpfi       3.19    3.40             10.0        102     5500      24   \n",
            "4        mpfi       3.19    3.40              8.0        115     5500      18   \n",
            "\n",
            "   highwaympg    price  \n",
            "0          27  13495.0  \n",
            "1          27  16500.0  \n",
            "2          26  16500.0  \n",
            "3          30  13950.0  \n",
            "4          22  17450.0  \n",
            "\n",
            "[5 rows x 26 columns]\n"
          ]
        }
      ]
    },
    {
      "cell_type": "code",
      "source": [
        "dataset.dtypes"
      ],
      "metadata": {
        "colab": {
          "base_uri": "https://localhost:8080/"
        },
        "id": "d6cRAmyZ4X2o",
        "outputId": "d13a359f-0434-4296-e068-5ddcbd18767a"
      },
      "execution_count": 5,
      "outputs": [
        {
          "output_type": "execute_result",
          "data": {
            "text/plain": [
              "car_ID                int64\n",
              "symboling             int64\n",
              "CarName              object\n",
              "fueltype             object\n",
              "aspiration           object\n",
              "doornumber           object\n",
              "carbody              object\n",
              "drivewheel           object\n",
              "enginelocation       object\n",
              "wheelbase           float64\n",
              "carlength           float64\n",
              "carwidth            float64\n",
              "carheight           float64\n",
              "curbweight            int64\n",
              "enginetype           object\n",
              "cylindernumber       object\n",
              "enginesize            int64\n",
              "fuelsystem           object\n",
              "boreratio           float64\n",
              "stroke              float64\n",
              "compressionratio    float64\n",
              "horsepower            int64\n",
              "peakrpm               int64\n",
              "citympg               int64\n",
              "highwaympg            int64\n",
              "price               float64\n",
              "dtype: object"
            ]
          },
          "metadata": {},
          "execution_count": 5
        }
      ]
    },
    {
      "cell_type": "code",
      "source": [
        "dataset.info()"
      ],
      "metadata": {
        "colab": {
          "base_uri": "https://localhost:8080/"
        },
        "id": "7ScfjxYO4fUI",
        "outputId": "109093a8-73cc-4a46-ea74-498690549f39"
      },
      "execution_count": 6,
      "outputs": [
        {
          "output_type": "stream",
          "name": "stdout",
          "text": [
            "<class 'pandas.core.frame.DataFrame'>\n",
            "RangeIndex: 205 entries, 0 to 204\n",
            "Data columns (total 26 columns):\n",
            " #   Column            Non-Null Count  Dtype  \n",
            "---  ------            --------------  -----  \n",
            " 0   car_ID            205 non-null    int64  \n",
            " 1   symboling         205 non-null    int64  \n",
            " 2   CarName           205 non-null    object \n",
            " 3   fueltype          205 non-null    object \n",
            " 4   aspiration        205 non-null    object \n",
            " 5   doornumber        205 non-null    object \n",
            " 6   carbody           205 non-null    object \n",
            " 7   drivewheel        205 non-null    object \n",
            " 8   enginelocation    205 non-null    object \n",
            " 9   wheelbase         205 non-null    float64\n",
            " 10  carlength         205 non-null    float64\n",
            " 11  carwidth          205 non-null    float64\n",
            " 12  carheight         205 non-null    float64\n",
            " 13  curbweight        205 non-null    int64  \n",
            " 14  enginetype        205 non-null    object \n",
            " 15  cylindernumber    205 non-null    object \n",
            " 16  enginesize        205 non-null    int64  \n",
            " 17  fuelsystem        205 non-null    object \n",
            " 18  boreratio         205 non-null    float64\n",
            " 19  stroke            205 non-null    float64\n",
            " 20  compressionratio  205 non-null    float64\n",
            " 21  horsepower        205 non-null    int64  \n",
            " 22  peakrpm           205 non-null    int64  \n",
            " 23  citympg           205 non-null    int64  \n",
            " 24  highwaympg        205 non-null    int64  \n",
            " 25  price             205 non-null    float64\n",
            "dtypes: float64(8), int64(8), object(10)\n",
            "memory usage: 41.8+ KB\n"
          ]
        }
      ]
    },
    {
      "cell_type": "code",
      "source": [
        "dataset.drop([\"car_ID\"],axis=1,inplace=True)\n",
        "print(dataset)"
      ],
      "metadata": {
        "colab": {
          "base_uri": "https://localhost:8080/"
        },
        "id": "1AMQslOK49UX",
        "outputId": "cf1852cb-d1ea-4790-e727-2d97ada183b5"
      },
      "execution_count": 7,
      "outputs": [
        {
          "output_type": "stream",
          "name": "stdout",
          "text": [
            "     symboling                   CarName fueltype aspiration doornumber  \\\n",
            "0            3        alfa-romero giulia      gas        std        two   \n",
            "1            3       alfa-romero stelvio      gas        std        two   \n",
            "2            1  alfa-romero Quadrifoglio      gas        std        two   \n",
            "3            2               audi 100 ls      gas        std       four   \n",
            "4            2                audi 100ls      gas        std       four   \n",
            "..         ...                       ...      ...        ...        ...   \n",
            "200         -1           volvo 145e (sw)      gas        std       four   \n",
            "201         -1               volvo 144ea      gas      turbo       four   \n",
            "202         -1               volvo 244dl      gas        std       four   \n",
            "203         -1                 volvo 246   diesel      turbo       four   \n",
            "204         -1               volvo 264gl      gas      turbo       four   \n",
            "\n",
            "         carbody drivewheel enginelocation  wheelbase  carlength  ...  \\\n",
            "0    convertible        rwd          front       88.6      168.8  ...   \n",
            "1    convertible        rwd          front       88.6      168.8  ...   \n",
            "2      hatchback        rwd          front       94.5      171.2  ...   \n",
            "3          sedan        fwd          front       99.8      176.6  ...   \n",
            "4          sedan        4wd          front       99.4      176.6  ...   \n",
            "..           ...        ...            ...        ...        ...  ...   \n",
            "200        sedan        rwd          front      109.1      188.8  ...   \n",
            "201        sedan        rwd          front      109.1      188.8  ...   \n",
            "202        sedan        rwd          front      109.1      188.8  ...   \n",
            "203        sedan        rwd          front      109.1      188.8  ...   \n",
            "204        sedan        rwd          front      109.1      188.8  ...   \n",
            "\n",
            "     enginesize  fuelsystem  boreratio stroke compressionratio  horsepower  \\\n",
            "0           130        mpfi       3.47   2.68              9.0         111   \n",
            "1           130        mpfi       3.47   2.68              9.0         111   \n",
            "2           152        mpfi       2.68   3.47              9.0         154   \n",
            "3           109        mpfi       3.19   3.40             10.0         102   \n",
            "4           136        mpfi       3.19   3.40              8.0         115   \n",
            "..          ...         ...        ...    ...              ...         ...   \n",
            "200         141        mpfi       3.78   3.15              9.5         114   \n",
            "201         141        mpfi       3.78   3.15              8.7         160   \n",
            "202         173        mpfi       3.58   2.87              8.8         134   \n",
            "203         145         idi       3.01   3.40             23.0         106   \n",
            "204         141        mpfi       3.78   3.15              9.5         114   \n",
            "\n",
            "    peakrpm  citympg  highwaympg    price  \n",
            "0      5000       21          27  13495.0  \n",
            "1      5000       21          27  16500.0  \n",
            "2      5000       19          26  16500.0  \n",
            "3      5500       24          30  13950.0  \n",
            "4      5500       18          22  17450.0  \n",
            "..      ...      ...         ...      ...  \n",
            "200    5400       23          28  16845.0  \n",
            "201    5300       19          25  19045.0  \n",
            "202    5500       18          23  21485.0  \n",
            "203    4800       26          27  22470.0  \n",
            "204    5400       19          25  22625.0  \n",
            "\n",
            "[205 rows x 25 columns]\n"
          ]
        }
      ]
    },
    {
      "cell_type": "markdown",
      "source": [
        "**Segregating the dataset**"
      ],
      "metadata": {
        "id": "GQakr1u94ntD"
      }
    },
    {
      "cell_type": "code",
      "source": [
        "numercalcol=dataset.select_dtypes(exclude=[\"object\"]).columns\n",
        "x=dataset[numercalcol]\n",
        "print(x.dtypes)\n",
        "print(x)"
      ],
      "metadata": {
        "colab": {
          "base_uri": "https://localhost:8080/"
        },
        "id": "qtmlcQUR4j0O",
        "outputId": "60bfde31-e71c-467b-d3a5-c343fc3ddc3d"
      },
      "execution_count": 8,
      "outputs": [
        {
          "output_type": "stream",
          "name": "stdout",
          "text": [
            "symboling             int64\n",
            "wheelbase           float64\n",
            "carlength           float64\n",
            "carwidth            float64\n",
            "carheight           float64\n",
            "curbweight            int64\n",
            "enginesize            int64\n",
            "boreratio           float64\n",
            "stroke              float64\n",
            "compressionratio    float64\n",
            "horsepower            int64\n",
            "peakrpm               int64\n",
            "citympg               int64\n",
            "highwaympg            int64\n",
            "price               float64\n",
            "dtype: object\n",
            "     symboling  wheelbase  carlength  carwidth  carheight  curbweight  \\\n",
            "0            3       88.6      168.8      64.1       48.8        2548   \n",
            "1            3       88.6      168.8      64.1       48.8        2548   \n",
            "2            1       94.5      171.2      65.5       52.4        2823   \n",
            "3            2       99.8      176.6      66.2       54.3        2337   \n",
            "4            2       99.4      176.6      66.4       54.3        2824   \n",
            "..         ...        ...        ...       ...        ...         ...   \n",
            "200         -1      109.1      188.8      68.9       55.5        2952   \n",
            "201         -1      109.1      188.8      68.8       55.5        3049   \n",
            "202         -1      109.1      188.8      68.9       55.5        3012   \n",
            "203         -1      109.1      188.8      68.9       55.5        3217   \n",
            "204         -1      109.1      188.8      68.9       55.5        3062   \n",
            "\n",
            "     enginesize  boreratio  stroke  compressionratio  horsepower  peakrpm  \\\n",
            "0           130       3.47    2.68               9.0         111     5000   \n",
            "1           130       3.47    2.68               9.0         111     5000   \n",
            "2           152       2.68    3.47               9.0         154     5000   \n",
            "3           109       3.19    3.40              10.0         102     5500   \n",
            "4           136       3.19    3.40               8.0         115     5500   \n",
            "..          ...        ...     ...               ...         ...      ...   \n",
            "200         141       3.78    3.15               9.5         114     5400   \n",
            "201         141       3.78    3.15               8.7         160     5300   \n",
            "202         173       3.58    2.87               8.8         134     5500   \n",
            "203         145       3.01    3.40              23.0         106     4800   \n",
            "204         141       3.78    3.15               9.5         114     5400   \n",
            "\n",
            "     citympg  highwaympg    price  \n",
            "0         21          27  13495.0  \n",
            "1         21          27  16500.0  \n",
            "2         19          26  16500.0  \n",
            "3         24          30  13950.0  \n",
            "4         18          22  17450.0  \n",
            "..       ...         ...      ...  \n",
            "200       23          28  16845.0  \n",
            "201       19          25  19045.0  \n",
            "202       18          23  21485.0  \n",
            "203       26          27  22470.0  \n",
            "204       19          25  22625.0  \n",
            "\n",
            "[205 rows x 15 columns]\n"
          ]
        }
      ]
    },
    {
      "cell_type": "code",
      "source": [
        "y=dataset.iloc[:,-1].values\n",
        "y"
      ],
      "metadata": {
        "colab": {
          "base_uri": "https://localhost:8080/"
        },
        "id": "9kZeWbr25VyM",
        "outputId": "a760214d-b804-48f6-8671-2e4c04897142"
      },
      "execution_count": 9,
      "outputs": [
        {
          "output_type": "execute_result",
          "data": {
            "text/plain": [
              "array([13495.   , 16500.   , 16500.   , 13950.   , 17450.   , 15250.   ,\n",
              "       17710.   , 18920.   , 23875.   , 17859.167, 16430.   , 16925.   ,\n",
              "       20970.   , 21105.   , 24565.   , 30760.   , 41315.   , 36880.   ,\n",
              "        5151.   ,  6295.   ,  6575.   ,  5572.   ,  6377.   ,  7957.   ,\n",
              "        6229.   ,  6692.   ,  7609.   ,  8558.   ,  8921.   , 12964.   ,\n",
              "        6479.   ,  6855.   ,  5399.   ,  6529.   ,  7129.   ,  7295.   ,\n",
              "        7295.   ,  7895.   ,  9095.   ,  8845.   , 10295.   , 12945.   ,\n",
              "       10345.   ,  6785.   ,  8916.5  ,  8916.5  , 11048.   , 32250.   ,\n",
              "       35550.   , 36000.   ,  5195.   ,  6095.   ,  6795.   ,  6695.   ,\n",
              "        7395.   , 10945.   , 11845.   , 13645.   , 15645.   ,  8845.   ,\n",
              "        8495.   , 10595.   , 10245.   , 10795.   , 11245.   , 18280.   ,\n",
              "       18344.   , 25552.   , 28248.   , 28176.   , 31600.   , 34184.   ,\n",
              "       35056.   , 40960.   , 45400.   , 16503.   ,  5389.   ,  6189.   ,\n",
              "        6669.   ,  7689.   ,  9959.   ,  8499.   , 12629.   , 14869.   ,\n",
              "       14489.   ,  6989.   ,  8189.   ,  9279.   ,  9279.   ,  5499.   ,\n",
              "        7099.   ,  6649.   ,  6849.   ,  7349.   ,  7299.   ,  7799.   ,\n",
              "        7499.   ,  7999.   ,  8249.   ,  8949.   ,  9549.   , 13499.   ,\n",
              "       14399.   , 13499.   , 17199.   , 19699.   , 18399.   , 11900.   ,\n",
              "       13200.   , 12440.   , 13860.   , 15580.   , 16900.   , 16695.   ,\n",
              "       17075.   , 16630.   , 17950.   , 18150.   ,  5572.   ,  7957.   ,\n",
              "        6229.   ,  6692.   ,  7609.   ,  8921.   , 12764.   , 22018.   ,\n",
              "       32528.   , 34028.   , 37028.   , 31400.5  ,  9295.   ,  9895.   ,\n",
              "       11850.   , 12170.   , 15040.   , 15510.   , 18150.   , 18620.   ,\n",
              "        5118.   ,  7053.   ,  7603.   ,  7126.   ,  7775.   ,  9960.   ,\n",
              "        9233.   , 11259.   ,  7463.   , 10198.   ,  8013.   , 11694.   ,\n",
              "        5348.   ,  6338.   ,  6488.   ,  6918.   ,  7898.   ,  8778.   ,\n",
              "        6938.   ,  7198.   ,  7898.   ,  7788.   ,  7738.   ,  8358.   ,\n",
              "        9258.   ,  8058.   ,  8238.   ,  9298.   ,  9538.   ,  8449.   ,\n",
              "        9639.   ,  9989.   , 11199.   , 11549.   , 17669.   ,  8948.   ,\n",
              "       10698.   ,  9988.   , 10898.   , 11248.   , 16558.   , 15998.   ,\n",
              "       15690.   , 15750.   ,  7775.   ,  7975.   ,  7995.   ,  8195.   ,\n",
              "        8495.   ,  9495.   ,  9995.   , 11595.   ,  9980.   , 13295.   ,\n",
              "       13845.   , 12290.   , 12940.   , 13415.   , 15985.   , 16515.   ,\n",
              "       18420.   , 18950.   , 16845.   , 19045.   , 21485.   , 22470.   ,\n",
              "       22625.   ])"
            ]
          },
          "metadata": {},
          "execution_count": 9
        }
      ]
    },
    {
      "cell_type": "markdown",
      "source": [
        "**Scaling the independent data**"
      ],
      "metadata": {
        "id": "vTunwpgx6a91"
      }
    },
    {
      "cell_type": "code",
      "source": [
        "from sklearn.preprocessing import scale\n",
        "cols=x.columns\n",
        "x=pd.DataFrame(scale(x))\n",
        "x.columns=cols\n",
        "print(x)"
      ],
      "metadata": {
        "colab": {
          "base_uri": "https://localhost:8080/"
        },
        "id": "ZsnPijLG6YRP",
        "outputId": "ba269114-684d-41f7-d854-bfbe95f28114"
      },
      "execution_count": 10,
      "outputs": [
        {
          "output_type": "stream",
          "name": "stdout",
          "text": [
            "     symboling  wheelbase  carlength  carwidth  carheight  curbweight  \\\n",
            "0     1.743470  -1.690772  -0.426521 -0.844782  -2.020417   -0.014566   \n",
            "1     1.743470  -1.690772  -0.426521 -0.844782  -2.020417   -0.014566   \n",
            "2     0.133509  -0.708596  -0.231513 -0.190566  -0.543527    0.514882   \n",
            "3     0.938490   0.173698   0.207256  0.136542   0.235942   -0.420797   \n",
            "4     0.938490   0.107110   0.207256  0.230001   0.235942    0.516807   \n",
            "..         ...        ...        ...       ...        ...         ...   \n",
            "200  -1.476452   1.721873   1.198549  1.398245   0.728239    0.763241   \n",
            "201  -1.476452   1.721873   1.198549  1.351515   0.728239    0.949992   \n",
            "202  -1.476452   1.721873   1.198549  1.398245   0.728239    0.878757   \n",
            "203  -1.476452   1.721873   1.198549  1.398245   0.728239    1.273437   \n",
            "204  -1.476452   1.721873   1.198549  1.398245   0.728239    0.975021   \n",
            "\n",
            "     enginesize  boreratio    stroke  compressionratio  horsepower   peakrpm  \\\n",
            "0      0.074449   0.519071 -1.839377         -0.288349    0.174483 -0.262960   \n",
            "1      0.074449   0.519071 -1.839377         -0.288349    0.174483 -0.262960   \n",
            "2      0.604046  -2.404880  0.685946         -0.288349    1.264536 -0.262960   \n",
            "3     -0.431076  -0.517266  0.462183         -0.035973   -0.053668  0.787855   \n",
            "4      0.218885  -0.517266  0.462183         -0.540725    0.275883  0.787855   \n",
            "..          ...        ...       ...               ...         ...       ...   \n",
            "200    0.339248   1.666445 -0.336970         -0.162161    0.250533  0.577692   \n",
            "201    0.339248   1.666445 -0.336970         -0.364062    1.416637  0.367529   \n",
            "202    1.109571   0.926204 -1.232021         -0.338824    0.757535  0.787855   \n",
            "203    0.435538  -1.183483  0.462183          3.244916    0.047732 -0.683286   \n",
            "204    0.339248   1.666445 -0.336970         -0.162161    0.250533  0.577692   \n",
            "\n",
            "      citympg  highwaympg     price  \n",
            "0   -0.646553   -0.546059  0.027391  \n",
            "1   -0.646553   -0.546059  0.404461  \n",
            "2   -0.953012   -0.691627  0.404461  \n",
            "3   -0.186865   -0.109354  0.084485  \n",
            "4   -1.106241   -1.273900  0.523668  \n",
            "..        ...         ...       ...  \n",
            "200 -0.340094   -0.400490  0.447752  \n",
            "201 -0.953012   -0.837195  0.723810  \n",
            "202 -1.106241   -1.128332  1.029983  \n",
            "203  0.119594   -0.546059  1.153582  \n",
            "204 -0.953012   -0.837195  1.173031  \n",
            "\n",
            "[205 rows x 15 columns]\n"
          ]
        }
      ]
    },
    {
      "cell_type": "markdown",
      "source": [
        "**Spliting the dataset into train and test**"
      ],
      "metadata": {
        "id": "1PUVr8p28EnF"
      }
    },
    {
      "cell_type": "code",
      "source": [
        "from sklearn.model_selection import train_test_split\n",
        "x_train,x_test,y_train,y_test=train_test_split(x,y,random_state=0,test_size=0.25)"
      ],
      "metadata": {
        "id": "koIcLDsP7vHP"
      },
      "execution_count": 11,
      "outputs": []
    },
    {
      "cell_type": "markdown",
      "source": [
        "**Applying the Regressor Model**"
      ],
      "metadata": {
        "id": "Yt0R1S5p8wr9"
      }
    },
    {
      "cell_type": "code",
      "source": [
        "from sklearn.ensemble import RandomForestRegressor\n",
        "model=RandomForestRegressor(random_state=0,n_estimators=120,max_depth=10)\n",
        "model.fit(x_train,y_train)"
      ],
      "metadata": {
        "colab": {
          "base_uri": "https://localhost:8080/",
          "height": 74
        },
        "id": "w_GoJwy98a2U",
        "outputId": "17f81aae-ee80-4261-cbe9-c23f9feb18f5"
      },
      "execution_count": 12,
      "outputs": [
        {
          "output_type": "execute_result",
          "data": {
            "text/plain": [
              "RandomForestRegressor(max_depth=10, n_estimators=120, random_state=0)"
            ],
            "text/html": [
              "<style>#sk-container-id-1 {color: black;background-color: white;}#sk-container-id-1 pre{padding: 0;}#sk-container-id-1 div.sk-toggleable {background-color: white;}#sk-container-id-1 label.sk-toggleable__label {cursor: pointer;display: block;width: 100%;margin-bottom: 0;padding: 0.3em;box-sizing: border-box;text-align: center;}#sk-container-id-1 label.sk-toggleable__label-arrow:before {content: \"▸\";float: left;margin-right: 0.25em;color: #696969;}#sk-container-id-1 label.sk-toggleable__label-arrow:hover:before {color: black;}#sk-container-id-1 div.sk-estimator:hover label.sk-toggleable__label-arrow:before {color: black;}#sk-container-id-1 div.sk-toggleable__content {max-height: 0;max-width: 0;overflow: hidden;text-align: left;background-color: #f0f8ff;}#sk-container-id-1 div.sk-toggleable__content pre {margin: 0.2em;color: black;border-radius: 0.25em;background-color: #f0f8ff;}#sk-container-id-1 input.sk-toggleable__control:checked~div.sk-toggleable__content {max-height: 200px;max-width: 100%;overflow: auto;}#sk-container-id-1 input.sk-toggleable__control:checked~label.sk-toggleable__label-arrow:before {content: \"▾\";}#sk-container-id-1 div.sk-estimator input.sk-toggleable__control:checked~label.sk-toggleable__label {background-color: #d4ebff;}#sk-container-id-1 div.sk-label input.sk-toggleable__control:checked~label.sk-toggleable__label {background-color: #d4ebff;}#sk-container-id-1 input.sk-hidden--visually {border: 0;clip: rect(1px 1px 1px 1px);clip: rect(1px, 1px, 1px, 1px);height: 1px;margin: -1px;overflow: hidden;padding: 0;position: absolute;width: 1px;}#sk-container-id-1 div.sk-estimator {font-family: monospace;background-color: #f0f8ff;border: 1px dotted black;border-radius: 0.25em;box-sizing: border-box;margin-bottom: 0.5em;}#sk-container-id-1 div.sk-estimator:hover {background-color: #d4ebff;}#sk-container-id-1 div.sk-parallel-item::after {content: \"\";width: 100%;border-bottom: 1px solid gray;flex-grow: 1;}#sk-container-id-1 div.sk-label:hover label.sk-toggleable__label {background-color: #d4ebff;}#sk-container-id-1 div.sk-serial::before {content: \"\";position: absolute;border-left: 1px solid gray;box-sizing: border-box;top: 0;bottom: 0;left: 50%;z-index: 0;}#sk-container-id-1 div.sk-serial {display: flex;flex-direction: column;align-items: center;background-color: white;padding-right: 0.2em;padding-left: 0.2em;position: relative;}#sk-container-id-1 div.sk-item {position: relative;z-index: 1;}#sk-container-id-1 div.sk-parallel {display: flex;align-items: stretch;justify-content: center;background-color: white;position: relative;}#sk-container-id-1 div.sk-item::before, #sk-container-id-1 div.sk-parallel-item::before {content: \"\";position: absolute;border-left: 1px solid gray;box-sizing: border-box;top: 0;bottom: 0;left: 50%;z-index: -1;}#sk-container-id-1 div.sk-parallel-item {display: flex;flex-direction: column;z-index: 1;position: relative;background-color: white;}#sk-container-id-1 div.sk-parallel-item:first-child::after {align-self: flex-end;width: 50%;}#sk-container-id-1 div.sk-parallel-item:last-child::after {align-self: flex-start;width: 50%;}#sk-container-id-1 div.sk-parallel-item:only-child::after {width: 0;}#sk-container-id-1 div.sk-dashed-wrapped {border: 1px dashed gray;margin: 0 0.4em 0.5em 0.4em;box-sizing: border-box;padding-bottom: 0.4em;background-color: white;}#sk-container-id-1 div.sk-label label {font-family: monospace;font-weight: bold;display: inline-block;line-height: 1.2em;}#sk-container-id-1 div.sk-label-container {text-align: center;}#sk-container-id-1 div.sk-container {/* jupyter's `normalize.less` sets `[hidden] { display: none; }` but bootstrap.min.css set `[hidden] { display: none !important; }` so we also need the `!important` here to be able to override the default hidden behavior on the sphinx rendered scikit-learn.org. See: https://github.com/scikit-learn/scikit-learn/issues/21755 */display: inline-block !important;position: relative;}#sk-container-id-1 div.sk-text-repr-fallback {display: none;}</style><div id=\"sk-container-id-1\" class=\"sk-top-container\"><div class=\"sk-text-repr-fallback\"><pre>RandomForestRegressor(max_depth=10, n_estimators=120, random_state=0)</pre><b>In a Jupyter environment, please rerun this cell to show the HTML representation or trust the notebook. <br />On GitHub, the HTML representation is unable to render, please try loading this page with nbviewer.org.</b></div><div class=\"sk-container\" hidden><div class=\"sk-item\"><div class=\"sk-estimator sk-toggleable\"><input class=\"sk-toggleable__control sk-hidden--visually\" id=\"sk-estimator-id-1\" type=\"checkbox\" checked><label for=\"sk-estimator-id-1\" class=\"sk-toggleable__label sk-toggleable__label-arrow\">RandomForestRegressor</label><div class=\"sk-toggleable__content\"><pre>RandomForestRegressor(max_depth=10, n_estimators=120, random_state=0)</pre></div></div></div></div></div>"
            ]
          },
          "metadata": {},
          "execution_count": 12
        }
      ]
    },
    {
      "cell_type": "markdown",
      "source": [
        "Validation using R2_Score"
      ],
      "metadata": {
        "id": "pl2QWayS9Ism"
      }
    },
    {
      "cell_type": "code",
      "source": [
        "y_pred=model.predict(x_test)\n",
        "from sklearn.metrics import r2_score\n",
        "r2=r2_score(y_pred,y_test)\n",
        "print(\"r2_score ={}\".format(r2*100))"
      ],
      "metadata": {
        "colab": {
          "base_uri": "https://localhost:8080/"
        },
        "id": "Rxf1uHuY9F-2",
        "outputId": "b6d19f0f-2f8c-4bc2-b179-3232e59b9252"
      },
      "execution_count": 13,
      "outputs": [
        {
          "output_type": "stream",
          "name": "stdout",
          "text": [
            "r2_score =97.6426167283184\n"
          ]
        }
      ]
    },
    {
      "cell_type": "markdown",
      "source": [
        "**Prediction of input data**"
      ],
      "metadata": {
        "id": "-0-n1MKL96kd"
      }
    },
    {
      "cell_type": "code",
      "source": [
        "x_in=[[2,100.8,176.6,55.2,58.3,2339,135,3.60,6.15,11.5,118,5600,54,26,16500.0]]\n",
        "print(model.predict(x_in))"
      ],
      "metadata": {
        "colab": {
          "base_uri": "https://localhost:8080/"
        },
        "id": "QXK6RZiL9kQz",
        "outputId": "d194ac66-e209-4bc6-baa8-de3a21f6aae3"
      },
      "execution_count": 14,
      "outputs": [
        {
          "output_type": "stream",
          "name": "stdout",
          "text": [
            "[37355.225]\n"
          ]
        },
        {
          "output_type": "stream",
          "name": "stderr",
          "text": [
            "/usr/local/lib/python3.9/dist-packages/sklearn/base.py:420: UserWarning: X does not have valid feature names, but RandomForestRegressor was fitted with feature names\n",
            "  warnings.warn(\n"
          ]
        }
      ]
    }
  ]
}